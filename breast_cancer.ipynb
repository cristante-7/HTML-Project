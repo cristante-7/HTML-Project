{
 "cells": [
  {
   "cell_type": "markdown",
   "source": "## Breast Cancer Awareness",
   "metadata": {
    "formattedRanges": [],
    "cell_id": "3529fe24ed1a45198bd109f39af35cb8",
    "tags": [],
    "is_collapsed": false,
    "deepnote_cell_type": "text-cell-h2"
   }
  },
  {
   "cell_type": "markdown",
   "source": "Breast cancer is the most common cancer amongst women in the world. It accounts for 25% of all cancer cases and affected over 2.1 Million people in 2015 alone. It starts when cells in the breast begin to grow out of control. These cells usually form tumors that can be seen via X-ray or felt as lumps in the breast area. The key challenge against its detection is how to classify tumors into malignant (cancerous) or benign(non-cancerous). We ask you to complete the analysis of classifying these tumors using machine learning (with SVMs) and the Breast Cancer Wisconsin (Diagnostic) Dataset.",
   "metadata": {
    "formattedRanges": [],
    "cell_id": "ad40c1bcd896491ea2df575d444c9a92",
    "tags": [],
    "is_collapsed": false,
    "deepnote_cell_type": "text-cell-p"
   }
  },
  {
   "cell_type": "code",
   "metadata": {
    "cell_id": "c05e2809f01f4e34b55d5c6525dd2cc7",
    "tags": [],
    "deepnote_to_be_reexecuted": false,
    "source_hash": "ba461fcb",
    "execution_start": 1656791242551,
    "execution_millis": 3234,
    "deepnote_cell_type": "code",
    "deepnote_cell_height": 261
   },
   "source": "#importing libraries\nimport pandas as pd\nimport numpy as np\nimport seaborn as sns\nimport matplotlib.pyplot as plt\n\nimport warnings\nwarnings.filterwarnings('ignore')\n\n#setting the default size for all visualizations\nsns.set(rc={'figure.figsize':(12,8)})",
   "execution_count": null,
   "outputs": []
  },
  {
   "cell_type": "code",
   "metadata": {
    "cell_id": "de829ff7c6644805a1670db905a27a95",
    "tags": [],
    "deepnote_to_be_reexecuted": false,
    "source_hash": "9acd0747",
    "execution_start": 1656791245795,
    "execution_millis": 292,
    "deepnote_cell_type": "code",
    "deepnote_cell_height": 440.15625
   },
   "source": "filename = 'data.csv'\ndf = pd.read_csv(filename)\ndf.head()",
   "execution_count": null,
   "outputs": [
    {
     "output_type": "execute_result",
     "execution_count": 2,
     "data": {
      "application/vnd.deepnote.dataframe.v3+json": {
       "column_count": 32,
       "row_count": 5,
       "columns": [
        {
         "name": "id",
         "dtype": "int64",
         "stats": {
          "unique_count": 5,
          "nan_count": 0,
          "min": "842302",
          "max": "84358402",
          "histogram": [
           {
            "bin_start": 842302,
            "bin_end": 9193912,
            "count": 2
           },
           {
            "bin_start": 9193912,
            "bin_end": 17545522,
            "count": 0
           },
           {
            "bin_start": 17545522,
            "bin_end": 25897132,
            "count": 0
           },
           {
            "bin_start": 25897132,
            "bin_end": 34248742,
            "count": 0
           },
           {
            "bin_start": 34248742,
            "bin_end": 42600352,
            "count": 0
           },
           {
            "bin_start": 42600352,
            "bin_end": 50951962,
            "count": 0
           },
           {
            "bin_start": 50951962,
            "bin_end": 59303572,
            "count": 0
           },
           {
            "bin_start": 59303572,
            "bin_end": 67655182,
            "count": 0
           },
           {
            "bin_start": 67655182,
            "bin_end": 76006792,
            "count": 0
           },
           {
            "bin_start": 76006792,
            "bin_end": 84358402,
            "count": 3
           }
          ]
         }
        },
        {
         "name": "diagnosis",
         "dtype": "object",
         "stats": {
          "unique_count": 1,
          "nan_count": 0,
          "categories": [
           {
            "name": "M",
            "count": 5
           }
          ]
         }
        },
        {
         "name": "radius_mean",
         "dtype": "float64",
         "stats": {
          "unique_count": 5,
          "nan_count": 0,
          "min": "11.42",
          "max": "20.57",
          "histogram": [
           {
            "bin_start": 11.42,
            "bin_end": 12.335,
            "count": 1
           },
           {
            "bin_start": 12.335,
            "bin_end": 13.25,
            "count": 0
           },
           {
            "bin_start": 13.25,
            "bin_end": 14.165,
            "count": 0
           },
           {
            "bin_start": 14.165,
            "bin_end": 15.08,
            "count": 0
           },
           {
            "bin_start": 15.08,
            "bin_end": 15.995000000000001,
            "count": 0
           },
           {
            "bin_start": 15.995000000000001,
            "bin_end": 16.91,
            "count": 0
           },
           {
            "bin_start": 16.91,
            "bin_end": 17.825,
            "count": 0
           },
           {
            "bin_start": 17.825,
            "bin_end": 18.740000000000002,
            "count": 1
           },
           {
            "bin_start": 18.740000000000002,
            "bin_end": 19.655,
            "count": 0
           },
           {
            "bin_start": 19.655,
            "bin_end": 20.57,
            "count": 3
           }
          ]
         }
        },
        {
         "name": "texture_mean",
         "dtype": "float64",
         "stats": {
          "unique_count": 5,
          "nan_count": 0,
          "min": "10.38",
          "max": "21.25",
          "histogram": [
           {
            "bin_start": 10.38,
            "bin_end": 11.467,
            "count": 1
           },
           {
            "bin_start": 11.467,
            "bin_end": 12.554,
            "count": 0
           },
           {
            "bin_start": 12.554,
            "bin_end": 13.641000000000002,
            "count": 0
           },
           {
            "bin_start": 13.641000000000002,
            "bin_end": 14.728000000000002,
            "count": 1
           },
           {
            "bin_start": 14.728000000000002,
            "bin_end": 15.815000000000001,
            "count": 0
           },
           {
            "bin_start": 15.815000000000001,
            "bin_end": 16.902,
            "count": 0
           },
           {
            "bin_start": 16.902,
            "bin_end": 17.989,
            "count": 1
           },
           {
            "bin_start": 17.989,
            "bin_end": 19.076,
            "count": 0
           },
           {
            "bin_start": 19.076,
            "bin_end": 20.163,
            "count": 0
           },
           {
            "bin_start": 20.163,
            "bin_end": 21.25,
            "count": 2
           }
          ]
         }
        },
        {
         "name": "perimeter_mean",
         "dtype": "float64",
         "stats": {
          "unique_count": 5,
          "nan_count": 0,
          "min": "77.58",
          "max": "135.1",
          "histogram": [
           {
            "bin_start": 77.58,
            "bin_end": 83.332,
            "count": 1
           },
           {
            "bin_start": 83.332,
            "bin_end": 89.084,
            "count": 0
           },
           {
            "bin_start": 89.084,
            "bin_end": 94.836,
            "count": 0
           },
           {
            "bin_start": 94.836,
            "bin_end": 100.588,
            "count": 0
           },
           {
            "bin_start": 100.588,
            "bin_end": 106.34,
            "count": 0
           },
           {
            "bin_start": 106.34,
            "bin_end": 112.092,
            "count": 0
           },
           {
            "bin_start": 112.092,
            "bin_end": 117.844,
            "count": 0
           },
           {
            "bin_start": 117.844,
            "bin_end": 123.596,
            "count": 1
           },
           {
            "bin_start": 123.596,
            "bin_end": 129.348,
            "count": 0
           },
           {
            "bin_start": 129.348,
            "bin_end": 135.1,
            "count": 3
           }
          ]
         }
        },
        {
         "name": "area_mean",
         "dtype": "float64",
         "stats": {
          "unique_count": 5,
          "nan_count": 0,
          "min": "386.1",
          "max": "1326.0",
          "histogram": [
           {
            "bin_start": 386.1,
            "bin_end": 480.09000000000003,
            "count": 1
           },
           {
            "bin_start": 480.09000000000003,
            "bin_end": 574.08,
            "count": 0
           },
           {
            "bin_start": 574.08,
            "bin_end": 668.0699999999999,
            "count": 0
           },
           {
            "bin_start": 668.0699999999999,
            "bin_end": 762.06,
            "count": 0
           },
           {
            "bin_start": 762.06,
            "bin_end": 856.05,
            "count": 0
           },
           {
            "bin_start": 856.05,
            "bin_end": 950.04,
            "count": 0
           },
           {
            "bin_start": 950.04,
            "bin_end": 1044.03,
            "count": 1
           },
           {
            "bin_start": 1044.03,
            "bin_end": 1138.02,
            "count": 0
           },
           {
            "bin_start": 1138.02,
            "bin_end": 1232.01,
            "count": 1
           },
           {
            "bin_start": 1232.01,
            "bin_end": 1326,
            "count": 2
           }
          ]
         }
        },
        {
         "name": "smoothness_mean",
         "dtype": "float64",
         "stats": {
          "unique_count": 5,
          "nan_count": 0,
          "min": "0.08474",
          "max": "0.1425",
          "histogram": [
           {
            "bin_start": 0.08474,
            "bin_end": 0.090516,
            "count": 1
           },
           {
            "bin_start": 0.090516,
            "bin_end": 0.09629199999999999,
            "count": 0
           },
           {
            "bin_start": 0.09629199999999999,
            "bin_end": 0.10206799999999999,
            "count": 1
           },
           {
            "bin_start": 0.10206799999999999,
            "bin_end": 0.107844,
            "count": 0
           },
           {
            "bin_start": 0.107844,
            "bin_end": 0.11362,
            "count": 1
           },
           {
            "bin_start": 0.11362,
            "bin_end": 0.11939599999999999,
            "count": 1
           },
           {
            "bin_start": 0.11939599999999999,
            "bin_end": 0.125172,
            "count": 0
           },
           {
            "bin_start": 0.125172,
            "bin_end": 0.13094799999999998,
            "count": 0
           },
           {
            "bin_start": 0.13094799999999998,
            "bin_end": 0.13672399999999998,
            "count": 0
           },
           {
            "bin_start": 0.13672399999999998,
            "bin_end": 0.1425,
            "count": 1
           }
          ]
         }
        },
        {
         "name": "compactness_mean",
         "dtype": "float64",
         "stats": {
          "unique_count": 5,
          "nan_count": 0,
          "min": "0.07864",
          "max": "0.2839",
          "histogram": [
           {
            "bin_start": 0.07864,
            "bin_end": 0.099166,
            "count": 1
           },
           {
            "bin_start": 0.099166,
            "bin_end": 0.11969199999999999,
            "count": 0
           },
           {
            "bin_start": 0.11969199999999999,
            "bin_end": 0.140218,
            "count": 1
           },
           {
            "bin_start": 0.140218,
            "bin_end": 0.160744,
            "count": 1
           },
           {
            "bin_start": 0.160744,
            "bin_end": 0.18127,
            "count": 0
           },
           {
            "bin_start": 0.18127,
            "bin_end": 0.20179599999999998,
            "count": 0
           },
           {
            "bin_start": 0.20179599999999998,
            "bin_end": 0.22232200000000002,
            "count": 0
           },
           {
            "bin_start": 0.22232200000000002,
            "bin_end": 0.242848,
            "count": 0
           },
           {
            "bin_start": 0.242848,
            "bin_end": 0.263374,
            "count": 0
           },
           {
            "bin_start": 0.263374,
            "bin_end": 0.2839,
            "count": 2
           }
          ]
         }
        },
        {
         "name": "concavity_mean",
         "dtype": "float64",
         "stats": {
          "unique_count": 5,
          "nan_count": 0,
          "min": "0.0869",
          "max": "0.3001",
          "histogram": [
           {
            "bin_start": 0.0869,
            "bin_end": 0.10822000000000001,
            "count": 1
           },
           {
            "bin_start": 0.10822000000000001,
            "bin_end": 0.12954,
            "count": 0
           },
           {
            "bin_start": 0.12954,
            "bin_end": 0.15086,
            "count": 0
           },
           {
            "bin_start": 0.15086,
            "bin_end": 0.17218,
            "count": 0
           },
           {
            "bin_start": 0.17218,
            "bin_end": 0.1935,
            "count": 0
           },
           {
            "bin_start": 0.1935,
            "bin_end": 0.21481999999999998,
            "count": 2
           },
           {
            "bin_start": 0.21481999999999998,
            "bin_end": 0.23614,
            "count": 0
           },
           {
            "bin_start": 0.23614,
            "bin_end": 0.25746,
            "count": 1
           },
           {
            "bin_start": 0.25746,
            "bin_end": 0.27878000000000003,
            "count": 0
           },
           {
            "bin_start": 0.27878000000000003,
            "bin_end": 0.3001,
            "count": 1
           }
          ]
         }
        },
        {
         "name": "concave_points_mean",
         "dtype": "float64",
         "stats": {
          "unique_count": 5,
          "nan_count": 0,
          "min": "0.07017",
          "max": "0.1471",
          "histogram": [
           {
            "bin_start": 0.07017,
            "bin_end": 0.077863,
            "count": 1
           },
           {
            "bin_start": 0.077863,
            "bin_end": 0.085556,
            "count": 0
           },
           {
            "bin_start": 0.085556,
            "bin_end": 0.093249,
            "count": 0
           },
           {
            "bin_start": 0.093249,
            "bin_end": 0.100942,
            "count": 0
           },
           {
            "bin_start": 0.100942,
            "bin_end": 0.10863500000000001,
            "count": 2
           },
           {
            "bin_start": 0.10863500000000001,
            "bin_end": 0.116328,
            "count": 0
           },
           {
            "bin_start": 0.116328,
            "bin_end": 0.124021,
            "count": 0
           },
           {
            "bin_start": 0.124021,
            "bin_end": 0.131714,
            "count": 1
           },
           {
            "bin_start": 0.131714,
            "bin_end": 0.139407,
            "count": 0
           },
           {
            "bin_start": 0.139407,
            "bin_end": 0.1471,
            "count": 1
           }
          ]
         }
        },
        {
         "name": "symmetry_mean",
         "dtype": "float64",
         "stats": {
          "unique_count": 5,
          "nan_count": 0,
          "min": "0.1809",
          "max": "0.2597",
          "histogram": [
           {
            "bin_start": 0.1809,
            "bin_end": 0.18878,
            "count": 2
           },
           {
            "bin_start": 0.18878,
            "bin_end": 0.19666,
            "count": 0
           },
           {
            "bin_start": 0.19666,
            "bin_end": 0.20454,
            "count": 0
           },
           {
            "bin_start": 0.20454,
            "bin_end": 0.21242,
            "count": 1
           },
           {
            "bin_start": 0.21242,
            "bin_end": 0.2203,
            "count": 0
           },
           {
            "bin_start": 0.2203,
            "bin_end": 0.22818,
            "count": 0
           },
           {
            "bin_start": 0.22818,
            "bin_end": 0.23606,
            "count": 0
           },
           {
            "bin_start": 0.23606,
            "bin_end": 0.24394,
            "count": 1
           },
           {
            "bin_start": 0.24394,
            "bin_end": 0.25182,
            "count": 0
           },
           {
            "bin_start": 0.25182,
            "bin_end": 0.2597,
            "count": 1
           }
          ]
         }
        },
        {
         "name": "fractal_dimension_mean",
         "dtype": "float64",
         "stats": {
          "unique_count": 5,
          "nan_count": 0,
          "min": "0.05667",
          "max": "0.09744",
          "histogram": [
           {
            "bin_start": 0.05667,
            "bin_end": 0.060746999999999995,
            "count": 3
           },
           {
            "bin_start": 0.060746999999999995,
            "bin_end": 0.06482399999999999,
            "count": 0
           },
           {
            "bin_start": 0.06482399999999999,
            "bin_end": 0.06890099999999999,
            "count": 0
           },
           {
            "bin_start": 0.06890099999999999,
            "bin_end": 0.072978,
            "count": 0
           },
           {
            "bin_start": 0.072978,
            "bin_end": 0.077055,
            "count": 0
           },
           {
            "bin_start": 0.077055,
            "bin_end": 0.081132,
            "count": 1
           },
           {
            "bin_start": 0.081132,
            "bin_end": 0.085209,
            "count": 0
           },
           {
            "bin_start": 0.085209,
            "bin_end": 0.089286,
            "count": 0
           },
           {
            "bin_start": 0.089286,
            "bin_end": 0.093363,
            "count": 0
           },
           {
            "bin_start": 0.093363,
            "bin_end": 0.09744,
            "count": 1
           }
          ]
         }
        },
        {
         "name": "radius_se",
         "dtype": "float64",
         "stats": {
          "unique_count": 5,
          "nan_count": 0,
          "min": "0.4956",
          "max": "1.095",
          "histogram": [
           {
            "bin_start": 0.4956,
            "bin_end": 0.5555399999999999,
            "count": 2
           },
           {
            "bin_start": 0.5555399999999999,
            "bin_end": 0.61548,
            "count": 0
           },
           {
            "bin_start": 0.61548,
            "bin_end": 0.6754199999999999,
            "count": 0
           },
           {
            "bin_start": 0.6754199999999999,
            "bin_end": 0.73536,
            "count": 0
           },
           {
            "bin_start": 0.73536,
            "bin_end": 0.7952999999999999,
            "count": 2
           },
           {
            "bin_start": 0.7952999999999999,
            "bin_end": 0.85524,
            "count": 0
           },
           {
            "bin_start": 0.85524,
            "bin_end": 0.9151799999999999,
            "count": 0
           },
           {
            "bin_start": 0.9151799999999999,
            "bin_end": 0.97512,
            "count": 0
           },
           {
            "bin_start": 0.97512,
            "bin_end": 1.0350599999999999,
            "count": 0
           },
           {
            "bin_start": 1.0350599999999999,
            "bin_end": 1.095,
            "count": 1
           }
          ]
         }
        },
        {
         "name": "texture_se",
         "dtype": "float64",
         "stats": {
          "unique_count": 5,
          "nan_count": 0,
          "min": "0.7339",
          "max": "1.156",
          "histogram": [
           {
            "bin_start": 0.7339,
            "bin_end": 0.77611,
            "count": 1
           },
           {
            "bin_start": 0.77611,
            "bin_end": 0.8183199999999999,
            "count": 2
           },
           {
            "bin_start": 0.8183199999999999,
            "bin_end": 0.86053,
            "count": 0
           },
           {
            "bin_start": 0.86053,
            "bin_end": 0.90274,
            "count": 0
           },
           {
            "bin_start": 0.90274,
            "bin_end": 0.94495,
            "count": 1
           },
           {
            "bin_start": 0.94495,
            "bin_end": 0.9871599999999999,
            "count": 0
           },
           {
            "bin_start": 0.9871599999999999,
            "bin_end": 1.02937,
            "count": 0
           },
           {
            "bin_start": 1.02937,
            "bin_end": 1.07158,
            "count": 0
           },
           {
            "bin_start": 1.07158,
            "bin_end": 1.1137899999999998,
            "count": 0
           },
           {
            "bin_start": 1.1137899999999998,
            "bin_end": 1.156,
            "count": 1
           }
          ]
         }
        },
        {
         "name": "perimeter_se",
         "dtype": "float64",
         "stats": {
          "unique_count": 5,
          "nan_count": 0,
          "min": "3.398",
          "max": "8.589",
          "histogram": [
           {
            "bin_start": 3.398,
            "bin_end": 3.9171000000000005,
            "count": 2
           },
           {
            "bin_start": 3.9171000000000005,
            "bin_end": 4.4362,
            "count": 0
           },
           {
            "bin_start": 4.4362,
            "bin_end": 4.9553,
            "count": 1
           },
           {
            "bin_start": 4.9553,
            "bin_end": 5.474400000000001,
            "count": 1
           },
           {
            "bin_start": 5.474400000000001,
            "bin_end": 5.993500000000001,
            "count": 0
           },
           {
            "bin_start": 5.993500000000001,
            "bin_end": 6.512600000000001,
            "count": 0
           },
           {
            "bin_start": 6.512600000000001,
            "bin_end": 7.031700000000001,
            "count": 0
           },
           {
            "bin_start": 7.031700000000001,
            "bin_end": 7.550800000000001,
            "count": 0
           },
           {
            "bin_start": 7.550800000000001,
            "bin_end": 8.0699,
            "count": 0
           },
           {
            "bin_start": 8.0699,
            "bin_end": 8.589,
            "count": 1
           }
          ]
         }
        },
        {
         "name": "area_se",
         "dtype": "float64",
         "stats": {
          "unique_count": 5,
          "nan_count": 0,
          "min": "27.23",
          "max": "153.4",
          "histogram": [
           {
            "bin_start": 27.23,
            "bin_end": 39.847,
            "count": 1
           },
           {
            "bin_start": 39.847,
            "bin_end": 52.464,
            "count": 0
           },
           {
            "bin_start": 52.464,
            "bin_end": 65.081,
            "count": 0
           },
           {
            "bin_start": 65.081,
            "bin_end": 77.69800000000001,
            "count": 1
           },
           {
            "bin_start": 77.69800000000001,
            "bin_end": 90.31500000000001,
            "count": 0
           },
           {
            "bin_start": 90.31500000000001,
            "bin_end": 102.932,
            "count": 2
           },
           {
            "bin_start": 102.932,
            "bin_end": 115.549,
            "count": 0
           },
           {
            "bin_start": 115.549,
            "bin_end": 128.166,
            "count": 0
           },
           {
            "bin_start": 128.166,
            "bin_end": 140.78300000000002,
            "count": 0
           },
           {
            "bin_start": 140.78300000000002,
            "bin_end": 153.4,
            "count": 1
           }
          ]
         }
        },
        {
         "name": "smoothness_se",
         "dtype": "float64",
         "stats": {
          "unique_count": 5,
          "nan_count": 0,
          "min": "0.005225",
          "max": "0.01149",
          "histogram": [
           {
            "bin_start": 0.005225,
            "bin_end": 0.0058515,
            "count": 1
           },
           {
            "bin_start": 0.0058515,
            "bin_end": 0.006477999999999999,
            "count": 2
           },
           {
            "bin_start": 0.006477999999999999,
            "bin_end": 0.0071045,
            "count": 0
           },
           {
            "bin_start": 0.0071045,
            "bin_end": 0.007731,
            "count": 0
           },
           {
            "bin_start": 0.007731,
            "bin_end": 0.0083575,
            "count": 0
           },
           {
            "bin_start": 0.0083575,
            "bin_end": 0.008984,
            "count": 0
           },
           {
            "bin_start": 0.008984,
            "bin_end": 0.009610500000000001,
            "count": 1
           },
           {
            "bin_start": 0.009610500000000001,
            "bin_end": 0.010237,
            "count": 0
           },
           {
            "bin_start": 0.010237,
            "bin_end": 0.010863500000000002,
            "count": 0
           },
           {
            "bin_start": 0.010863500000000002,
            "bin_end": 0.01149,
            "count": 1
           }
          ]
         }
        },
        {
         "name": "compactness_se",
         "dtype": "float64",
         "stats": {
          "unique_count": 5,
          "nan_count": 0,
          "min": "0.01308",
          "max": "0.07458",
          "histogram": [
           {
            "bin_start": 0.01308,
            "bin_end": 0.019229999999999997,
            "count": 1
           },
           {
            "bin_start": 0.019229999999999997,
            "bin_end": 0.02538,
            "count": 1
           },
           {
            "bin_start": 0.02538,
            "bin_end": 0.031529999999999996,
            "count": 0
           },
           {
            "bin_start": 0.031529999999999996,
            "bin_end": 0.03768,
            "count": 0
           },
           {
            "bin_start": 0.03768,
            "bin_end": 0.043829999999999994,
            "count": 1
           },
           {
            "bin_start": 0.043829999999999994,
            "bin_end": 0.04998,
            "count": 1
           },
           {
            "bin_start": 0.04998,
            "bin_end": 0.05612999999999999,
            "count": 0
           },
           {
            "bin_start": 0.05612999999999999,
            "bin_end": 0.062279999999999995,
            "count": 0
           },
           {
            "bin_start": 0.062279999999999995,
            "bin_end": 0.06842999999999999,
            "count": 0
           },
           {
            "bin_start": 0.06842999999999999,
            "bin_end": 0.07458,
            "count": 1
           }
          ]
         }
        },
        {
         "name": "concavity_se",
         "dtype": "float64",
         "stats": {
          "unique_count": 5,
          "nan_count": 0,
          "min": "0.0186",
          "max": "0.05688",
          "histogram": [
           {
            "bin_start": 0.0186,
            "bin_end": 0.022428,
            "count": 1
           },
           {
            "bin_start": 0.022428,
            "bin_end": 0.026255999999999998,
            "count": 0
           },
           {
            "bin_start": 0.026255999999999998,
            "bin_end": 0.030084,
            "count": 0
           },
           {
            "bin_start": 0.030084,
            "bin_end": 0.033912,
            "count": 0
           },
           {
            "bin_start": 0.033912,
            "bin_end": 0.037739999999999996,
            "count": 0
           },
           {
            "bin_start": 0.037739999999999996,
            "bin_end": 0.041568,
            "count": 1
           },
           {
            "bin_start": 0.041568,
            "bin_end": 0.045396,
            "count": 0
           },
           {
            "bin_start": 0.045396,
            "bin_end": 0.049224000000000004,
            "count": 0
           },
           {
            "bin_start": 0.049224000000000004,
            "bin_end": 0.053052,
            "count": 0
           },
           {
            "bin_start": 0.053052,
            "bin_end": 0.05688,
            "count": 3
           }
          ]
         }
        },
        {
         "name": "concave_points_se",
         "dtype": "float64",
         "stats": {
          "unique_count": 5,
          "nan_count": 0,
          "min": "0.0134",
          "max": "0.02058",
          "histogram": [
           {
            "bin_start": 0.0134,
            "bin_end": 0.014118,
            "count": 1
           },
           {
            "bin_start": 0.014118,
            "bin_end": 0.014836,
            "count": 0
           },
           {
            "bin_start": 0.014836,
            "bin_end": 0.015554000000000002,
            "count": 0
           },
           {
            "bin_start": 0.015554000000000002,
            "bin_end": 0.016272000000000002,
            "count": 1
           },
           {
            "bin_start": 0.016272000000000002,
            "bin_end": 0.01699,
            "count": 0
           },
           {
            "bin_start": 0.01699,
            "bin_end": 0.017708,
            "count": 0
           },
           {
            "bin_start": 0.017708,
            "bin_end": 0.018426,
            "count": 0
           },
           {
            "bin_start": 0.018426,
            "bin_end": 0.019144,
            "count": 2
           },
           {
            "bin_start": 0.019144,
            "bin_end": 0.019862,
            "count": 0
           },
           {
            "bin_start": 0.019862,
            "bin_end": 0.02058,
            "count": 1
           }
          ]
         }
        },
        {
         "name": "symmetry_se",
         "dtype": "float64",
         "stats": {
          "unique_count": 5,
          "nan_count": 0,
          "min": "0.01389",
          "max": "0.05963",
          "histogram": [
           {
            "bin_start": 0.01389,
            "bin_end": 0.018464,
            "count": 2
           },
           {
            "bin_start": 0.018464,
            "bin_end": 0.023038,
            "count": 1
           },
           {
            "bin_start": 0.023038,
            "bin_end": 0.027611999999999998,
            "count": 0
           },
           {
            "bin_start": 0.027611999999999998,
            "bin_end": 0.032186,
            "count": 1
           },
           {
            "bin_start": 0.032186,
            "bin_end": 0.03676,
            "count": 0
           },
           {
            "bin_start": 0.03676,
            "bin_end": 0.041333999999999996,
            "count": 0
           },
           {
            "bin_start": 0.041333999999999996,
            "bin_end": 0.045908,
            "count": 0
           },
           {
            "bin_start": 0.045908,
            "bin_end": 0.050482,
            "count": 0
           },
           {
            "bin_start": 0.050482,
            "bin_end": 0.055056,
            "count": 0
           },
           {
            "bin_start": 0.055056,
            "bin_end": 0.05963,
            "count": 1
           }
          ]
         }
        },
        {
         "name": "fractal_dimension_se",
         "dtype": "float64",
         "stats": {
          "unique_count": 5,
          "nan_count": 0,
          "min": "0.003532",
          "max": "0.009208",
          "histogram": [
           {
            "bin_start": 0.003532,
            "bin_end": 0.0040996,
            "count": 1
           },
           {
            "bin_start": 0.0040996,
            "bin_end": 0.0046672,
            "count": 1
           },
           {
            "bin_start": 0.0046672,
            "bin_end": 0.0052347999999999995,
            "count": 1
           },
           {
            "bin_start": 0.0052347999999999995,
            "bin_end": 0.005802399999999999,
            "count": 0
           },
           {
            "bin_start": 0.005802399999999999,
            "bin_end": 0.006369999999999999,
            "count": 1
           },
           {
            "bin_start": 0.006369999999999999,
            "bin_end": 0.0069375999999999995,
            "count": 0
           },
           {
            "bin_start": 0.0069375999999999995,
            "bin_end": 0.0075052,
            "count": 0
           },
           {
            "bin_start": 0.0075052,
            "bin_end": 0.0080728,
            "count": 0
           },
           {
            "bin_start": 0.0080728,
            "bin_end": 0.0086404,
            "count": 0
           },
           {
            "bin_start": 0.0086404,
            "bin_end": 0.009208,
            "count": 1
           }
          ]
         }
        },
        {
         "name": "radius_worst",
         "dtype": "float64",
         "stats": {
          "unique_count": 5,
          "nan_count": 0,
          "min": "14.91",
          "max": "25.38",
          "histogram": [
           {
            "bin_start": 14.91,
            "bin_end": 15.957,
            "count": 1
           },
           {
            "bin_start": 15.957,
            "bin_end": 17.004,
            "count": 0
           },
           {
            "bin_start": 17.004,
            "bin_end": 18.051000000000002,
            "count": 0
           },
           {
            "bin_start": 18.051000000000002,
            "bin_end": 19.098,
            "count": 0
           },
           {
            "bin_start": 19.098,
            "bin_end": 20.145,
            "count": 0
           },
           {
            "bin_start": 20.145,
            "bin_end": 21.192,
            "count": 0
           },
           {
            "bin_start": 21.192,
            "bin_end": 22.239,
            "count": 0
           },
           {
            "bin_start": 22.239,
            "bin_end": 23.286,
            "count": 1
           },
           {
            "bin_start": 23.286,
            "bin_end": 24.333,
            "count": 1
           },
           {
            "bin_start": 24.333,
            "bin_end": 25.38,
            "count": 2
           }
          ]
         }
        },
        {
         "name": "texture_worst",
         "dtype": "float64",
         "stats": {
          "unique_count": 5,
          "nan_count": 0,
          "min": "16.67",
          "max": "26.5",
          "histogram": [
           {
            "bin_start": 16.67,
            "bin_end": 17.653000000000002,
            "count": 2
           },
           {
            "bin_start": 17.653000000000002,
            "bin_end": 18.636000000000003,
            "count": 0
           },
           {
            "bin_start": 18.636000000000003,
            "bin_end": 19.619,
            "count": 0
           },
           {
            "bin_start": 19.619,
            "bin_end": 20.602,
            "count": 0
           },
           {
            "bin_start": 20.602,
            "bin_end": 21.585,
            "count": 0
           },
           {
            "bin_start": 21.585,
            "bin_end": 22.568,
            "count": 0
           },
           {
            "bin_start": 22.568,
            "bin_end": 23.551000000000002,
            "count": 1
           },
           {
            "bin_start": 23.551000000000002,
            "bin_end": 24.534,
            "count": 0
           },
           {
            "bin_start": 24.534,
            "bin_end": 25.517000000000003,
            "count": 0
           },
           {
            "bin_start": 25.517000000000003,
            "bin_end": 26.5,
            "count": 2
           }
          ]
         }
        },
        {
         "name": "perimeter_worst",
         "dtype": "float64",
         "stats": {
          "unique_count": 5,
          "nan_count": 0,
          "min": "98.87",
          "max": "184.6",
          "histogram": [
           {
            "bin_start": 98.87,
            "bin_end": 107.443,
            "count": 1
           },
           {
            "bin_start": 107.443,
            "bin_end": 116.016,
            "count": 0
           },
           {
            "bin_start": 116.016,
            "bin_end": 124.589,
            "count": 0
           },
           {
            "bin_start": 124.589,
            "bin_end": 133.162,
            "count": 0
           },
           {
            "bin_start": 133.162,
            "bin_end": 141.735,
            "count": 0
           },
           {
            "bin_start": 141.735,
            "bin_end": 150.308,
            "count": 0
           },
           {
            "bin_start": 150.308,
            "bin_end": 158.881,
            "count": 3
           },
           {
            "bin_start": 158.881,
            "bin_end": 167.454,
            "count": 0
           },
           {
            "bin_start": 167.454,
            "bin_end": 176.027,
            "count": 0
           },
           {
            "bin_start": 176.027,
            "bin_end": 184.6,
            "count": 1
           }
          ]
         }
        },
        {
         "name": "area_worst",
         "dtype": "float64",
         "stats": {
          "unique_count": 5,
          "nan_count": 0,
          "min": "567.7",
          "max": "2019.0",
          "histogram": [
           {
            "bin_start": 567.7,
            "bin_end": 712.83,
            "count": 1
           },
           {
            "bin_start": 712.83,
            "bin_end": 857.96,
            "count": 0
           },
           {
            "bin_start": 857.96,
            "bin_end": 1003.09,
            "count": 0
           },
           {
            "bin_start": 1003.09,
            "bin_end": 1148.22,
            "count": 0
           },
           {
            "bin_start": 1148.22,
            "bin_end": 1293.35,
            "count": 0
           },
           {
            "bin_start": 1293.35,
            "bin_end": 1438.48,
            "count": 0
           },
           {
            "bin_start": 1438.48,
            "bin_end": 1583.6100000000001,
            "count": 1
           },
           {
            "bin_start": 1583.6100000000001,
            "bin_end": 1728.74,
            "count": 1
           },
           {
            "bin_start": 1728.74,
            "bin_end": 1873.8700000000001,
            "count": 0
           },
           {
            "bin_start": 1873.8700000000001,
            "bin_end": 2019,
            "count": 2
           }
          ]
         }
        },
        {
         "name": "smoothness_worst",
         "dtype": "float64",
         "stats": {
          "unique_count": 5,
          "nan_count": 0,
          "min": "0.1238",
          "max": "0.2098",
          "histogram": [
           {
            "bin_start": 0.1238,
            "bin_end": 0.1324,
            "count": 1
           },
           {
            "bin_start": 0.1324,
            "bin_end": 0.141,
            "count": 1
           },
           {
            "bin_start": 0.141,
            "bin_end": 0.14959999999999998,
            "count": 1
           },
           {
            "bin_start": 0.14959999999999998,
            "bin_end": 0.1582,
            "count": 0
           },
           {
            "bin_start": 0.1582,
            "bin_end": 0.1668,
            "count": 1
           },
           {
            "bin_start": 0.1668,
            "bin_end": 0.1754,
            "count": 0
           },
           {
            "bin_start": 0.1754,
            "bin_end": 0.184,
            "count": 0
           },
           {
            "bin_start": 0.184,
            "bin_end": 0.1926,
            "count": 0
           },
           {
            "bin_start": 0.1926,
            "bin_end": 0.2012,
            "count": 0
           },
           {
            "bin_start": 0.2012,
            "bin_end": 0.2098,
            "count": 1
           }
          ]
         }
        },
        {
         "name": "compactness_worst",
         "dtype": "float64",
         "stats": {
          "unique_count": 5,
          "nan_count": 0,
          "min": "0.1866",
          "max": "0.8663",
          "histogram": [
           {
            "bin_start": 0.1866,
            "bin_end": 0.25456999999999996,
            "count": 2
           },
           {
            "bin_start": 0.25456999999999996,
            "bin_end": 0.32254,
            "count": 0
           },
           {
            "bin_start": 0.32254,
            "bin_end": 0.39051,
            "count": 0
           },
           {
            "bin_start": 0.39051,
            "bin_end": 0.45848,
            "count": 1
           },
           {
            "bin_start": 0.45848,
            "bin_end": 0.52645,
            "count": 0
           },
           {
            "bin_start": 0.52645,
            "bin_end": 0.59442,
            "count": 0
           },
           {
            "bin_start": 0.59442,
            "bin_end": 0.66239,
            "count": 0
           },
           {
            "bin_start": 0.66239,
            "bin_end": 0.73036,
            "count": 1
           },
           {
            "bin_start": 0.73036,
            "bin_end": 0.79833,
            "count": 0
           },
           {
            "bin_start": 0.79833,
            "bin_end": 0.8663,
            "count": 1
           }
          ]
         }
        },
        {
         "name": "concavity_worst",
         "dtype": "float64",
         "stats": {
          "unique_count": 5,
          "nan_count": 0,
          "min": "0.2416",
          "max": "0.7119",
          "histogram": [
           {
            "bin_start": 0.2416,
            "bin_end": 0.28863,
            "count": 1
           },
           {
            "bin_start": 0.28863,
            "bin_end": 0.33566,
            "count": 0
           },
           {
            "bin_start": 0.33566,
            "bin_end": 0.38269,
            "count": 0
           },
           {
            "bin_start": 0.38269,
            "bin_end": 0.42972,
            "count": 1
           },
           {
            "bin_start": 0.42972,
            "bin_end": 0.47675,
            "count": 1
           },
           {
            "bin_start": 0.47675,
            "bin_end": 0.52378,
            "count": 0
           },
           {
            "bin_start": 0.52378,
            "bin_end": 0.5708099999999999,
            "count": 0
           },
           {
            "bin_start": 0.5708099999999999,
            "bin_end": 0.61784,
            "count": 0
           },
           {
            "bin_start": 0.61784,
            "bin_end": 0.66487,
            "count": 0
           },
           {
            "bin_start": 0.66487,
            "bin_end": 0.7119,
            "count": 2
           }
          ]
         }
        },
        {
         "name": "concave_points_worst",
         "dtype": "float64",
         "stats": {
          "unique_count": 5,
          "nan_count": 0,
          "min": "0.1625",
          "max": "0.2654",
          "histogram": [
           {
            "bin_start": 0.1625,
            "bin_end": 0.17279,
            "count": 1
           },
           {
            "bin_start": 0.17279,
            "bin_end": 0.18308000000000002,
            "count": 0
           },
           {
            "bin_start": 0.18308000000000002,
            "bin_end": 0.19337000000000001,
            "count": 1
           },
           {
            "bin_start": 0.19337000000000001,
            "bin_end": 0.20366,
            "count": 0
           },
           {
            "bin_start": 0.20366,
            "bin_end": 0.21395000000000003,
            "count": 0
           },
           {
            "bin_start": 0.21395000000000003,
            "bin_end": 0.22424000000000002,
            "count": 0
           },
           {
            "bin_start": 0.22424000000000002,
            "bin_end": 0.23453000000000002,
            "count": 0
           },
           {
            "bin_start": 0.23453000000000002,
            "bin_end": 0.24482000000000004,
            "count": 1
           },
           {
            "bin_start": 0.24482000000000004,
            "bin_end": 0.25511000000000006,
            "count": 0
           },
           {
            "bin_start": 0.25511000000000006,
            "bin_end": 0.2654,
            "count": 2
           }
          ]
         }
        },
        {
         "name": "symmetry_worst",
         "dtype": "float64",
         "stats": {
          "unique_count": 5,
          "nan_count": 0,
          "min": "0.2364",
          "max": "0.6638",
          "histogram": [
           {
            "bin_start": 0.2364,
            "bin_end": 0.27914,
            "count": 2
           },
           {
            "bin_start": 0.27914,
            "bin_end": 0.32188,
            "count": 0
           },
           {
            "bin_start": 0.32188,
            "bin_end": 0.36461999999999994,
            "count": 1
           },
           {
            "bin_start": 0.36461999999999994,
            "bin_end": 0.40735999999999994,
            "count": 0
           },
           {
            "bin_start": 0.40735999999999994,
            "bin_end": 0.45009999999999994,
            "count": 0
           },
           {
            "bin_start": 0.45009999999999994,
            "bin_end": 0.49283999999999994,
            "count": 1
           },
           {
            "bin_start": 0.49283999999999994,
            "bin_end": 0.53558,
            "count": 0
           },
           {
            "bin_start": 0.53558,
            "bin_end": 0.57832,
            "count": 0
           },
           {
            "bin_start": 0.57832,
            "bin_end": 0.62106,
            "count": 0
           },
           {
            "bin_start": 0.62106,
            "bin_end": 0.6638,
            "count": 1
           }
          ]
         }
        },
        {
         "name": "fractal_dimension_worst",
         "dtype": "float64",
         "stats": {
          "unique_count": 5,
          "nan_count": 0,
          "min": "0.07678",
          "max": "0.173",
          "histogram": [
           {
            "bin_start": 0.07678,
            "bin_end": 0.086402,
            "count": 1
           },
           {
            "bin_start": 0.086402,
            "bin_end": 0.096024,
            "count": 2
           },
           {
            "bin_start": 0.096024,
            "bin_end": 0.10564599999999999,
            "count": 0
           },
           {
            "bin_start": 0.10564599999999999,
            "bin_end": 0.115268,
            "count": 0
           },
           {
            "bin_start": 0.115268,
            "bin_end": 0.12489,
            "count": 1
           },
           {
            "bin_start": 0.12489,
            "bin_end": 0.134512,
            "count": 0
           },
           {
            "bin_start": 0.134512,
            "bin_end": 0.14413399999999998,
            "count": 0
           },
           {
            "bin_start": 0.14413399999999998,
            "bin_end": 0.153756,
            "count": 0
           },
           {
            "bin_start": 0.153756,
            "bin_end": 0.16337799999999997,
            "count": 0
           },
           {
            "bin_start": 0.16337799999999997,
            "bin_end": 0.173,
            "count": 1
           }
          ]
         }
        },
        {
         "name": "_deepnote_index_column",
         "dtype": "int64"
        }
       ],
       "rows": [
        {
         "id": 842302,
         "diagnosis": "M",
         "radius_mean": 17.99,
         "texture_mean": 10.38,
         "perimeter_mean": 122.8,
         "area_mean": 1001,
         "smoothness_mean": 0.1184,
         "compactness_mean": 0.2776,
         "concavity_mean": 0.3001,
         "concave_points_mean": 0.1471,
         "symmetry_mean": 0.2419,
         "fractal_dimension_mean": 0.07871,
         "radius_se": 1.095,
         "texture_se": 0.9053,
         "perimeter_se": 8.589,
         "area_se": 153.4,
         "smoothness_se": 0.006399,
         "compactness_se": 0.04904,
         "concavity_se": 0.05373,
         "concave_points_se": 0.01587,
         "symmetry_se": 0.03003,
         "fractal_dimension_se": 0.006193,
         "radius_worst": 25.38,
         "texture_worst": 17.33,
         "perimeter_worst": 184.6,
         "area_worst": 2019,
         "smoothness_worst": 0.1622,
         "compactness_worst": 0.6656,
         "concavity_worst": 0.7119,
         "concave_points_worst": 0.2654,
         "symmetry_worst": 0.4601,
         "fractal_dimension_worst": 0.1189,
         "_deepnote_index_column": 0
        },
        {
         "id": 842517,
         "diagnosis": "M",
         "radius_mean": 20.57,
         "texture_mean": 17.77,
         "perimeter_mean": 132.9,
         "area_mean": 1326,
         "smoothness_mean": 0.08474,
         "compactness_mean": 0.07864,
         "concavity_mean": 0.0869,
         "concave_points_mean": 0.07017,
         "symmetry_mean": 0.1812,
         "fractal_dimension_mean": 0.05667,
         "radius_se": 0.5435,
         "texture_se": 0.7339,
         "perimeter_se": 3.398,
         "area_se": 74.08,
         "smoothness_se": 0.005225,
         "compactness_se": 0.01308,
         "concavity_se": 0.0186,
         "concave_points_se": 0.0134,
         "symmetry_se": 0.01389,
         "fractal_dimension_se": 0.003532,
         "radius_worst": 24.99,
         "texture_worst": 23.41,
         "perimeter_worst": 158.8,
         "area_worst": 1956,
         "smoothness_worst": 0.1238,
         "compactness_worst": 0.1866,
         "concavity_worst": 0.2416,
         "concave_points_worst": 0.186,
         "symmetry_worst": 0.275,
         "fractal_dimension_worst": 0.08902,
         "_deepnote_index_column": 1
        },
        {
         "id": 84300903,
         "diagnosis": "M",
         "radius_mean": 19.69,
         "texture_mean": 21.25,
         "perimeter_mean": 130,
         "area_mean": 1203,
         "smoothness_mean": 0.1096,
         "compactness_mean": 0.1599,
         "concavity_mean": 0.1974,
         "concave_points_mean": 0.1279,
         "symmetry_mean": 0.2069,
         "fractal_dimension_mean": 0.05999,
         "radius_se": 0.7456,
         "texture_se": 0.7869,
         "perimeter_se": 4.585,
         "area_se": 94.03,
         "smoothness_se": 0.00615,
         "compactness_se": 0.04006,
         "concavity_se": 0.03832,
         "concave_points_se": 0.02058,
         "symmetry_se": 0.0225,
         "fractal_dimension_se": 0.004571,
         "radius_worst": 23.57,
         "texture_worst": 25.53,
         "perimeter_worst": 152.5,
         "area_worst": 1709,
         "smoothness_worst": 0.1444,
         "compactness_worst": 0.4245,
         "concavity_worst": 0.4504,
         "concave_points_worst": 0.243,
         "symmetry_worst": 0.3613,
         "fractal_dimension_worst": 0.08758,
         "_deepnote_index_column": 2
        },
        {
         "id": 84348301,
         "diagnosis": "M",
         "radius_mean": 11.42,
         "texture_mean": 20.38,
         "perimeter_mean": 77.58,
         "area_mean": 386.1,
         "smoothness_mean": 0.1425,
         "compactness_mean": 0.2839,
         "concavity_mean": 0.2414,
         "concave_points_mean": 0.1052,
         "symmetry_mean": 0.2597,
         "fractal_dimension_mean": 0.09744,
         "radius_se": 0.4956,
         "texture_se": 1.156,
         "perimeter_se": 3.445,
         "area_se": 27.23,
         "smoothness_se": 0.00911,
         "compactness_se": 0.07458,
         "concavity_se": 0.05661,
         "concave_points_se": 0.01867,
         "symmetry_se": 0.05963,
         "fractal_dimension_se": 0.009208,
         "radius_worst": 14.91,
         "texture_worst": 26.5,
         "perimeter_worst": 98.87,
         "area_worst": 567.7,
         "smoothness_worst": 0.2098,
         "compactness_worst": 0.8663,
         "concavity_worst": 0.6869,
         "concave_points_worst": 0.2575,
         "symmetry_worst": 0.6638,
         "fractal_dimension_worst": 0.173,
         "_deepnote_index_column": 3
        },
        {
         "id": 84358402,
         "diagnosis": "M",
         "radius_mean": 20.29,
         "texture_mean": 14.34,
         "perimeter_mean": 135.1,
         "area_mean": 1297,
         "smoothness_mean": 0.1003,
         "compactness_mean": 0.1328,
         "concavity_mean": 0.198,
         "concave_points_mean": 0.1043,
         "symmetry_mean": 0.1809,
         "fractal_dimension_mean": 0.05883,
         "radius_se": 0.7572,
         "texture_se": 0.7813,
         "perimeter_se": 5.438,
         "area_se": 94.44,
         "smoothness_se": 0.01149,
         "compactness_se": 0.02461,
         "concavity_se": 0.05688,
         "concave_points_se": 0.01885,
         "symmetry_se": 0.01756,
         "fractal_dimension_se": 0.005115,
         "radius_worst": 22.54,
         "texture_worst": 16.67,
         "perimeter_worst": 152.2,
         "area_worst": 1575,
         "smoothness_worst": 0.1374,
         "compactness_worst": 0.205,
         "concavity_worst": 0.4,
         "concave_points_worst": 0.1625,
         "symmetry_worst": 0.2364,
         "fractal_dimension_worst": 0.07678,
         "_deepnote_index_column": 4
        }
       ]
      },
      "text/plain": "         id diagnosis  radius_mean  texture_mean  perimeter_mean  area_mean  \\\n0    842302         M        17.99         10.38          122.80     1001.0   \n1    842517         M        20.57         17.77          132.90     1326.0   \n2  84300903         M        19.69         21.25          130.00     1203.0   \n3  84348301         M        11.42         20.38           77.58      386.1   \n4  84358402         M        20.29         14.34          135.10     1297.0   \n\n   smoothness_mean  compactness_mean  concavity_mean  concave_points_mean  \\\n0          0.11840           0.27760          0.3001              0.14710   \n1          0.08474           0.07864          0.0869              0.07017   \n2          0.10960           0.15990          0.1974              0.12790   \n3          0.14250           0.28390          0.2414              0.10520   \n4          0.10030           0.13280          0.1980              0.10430   \n\n   ...  radius_worst  texture_worst  perimeter_worst  area_worst  \\\n0  ...         25.38          17.33           184.60      2019.0   \n1  ...         24.99          23.41           158.80      1956.0   \n2  ...         23.57          25.53           152.50      1709.0   \n3  ...         14.91          26.50            98.87       567.7   \n4  ...         22.54          16.67           152.20      1575.0   \n\n   smoothness_worst  compactness_worst  concavity_worst  concave_points_worst  \\\n0            0.1622             0.6656           0.7119                0.2654   \n1            0.1238             0.1866           0.2416                0.1860   \n2            0.1444             0.4245           0.4504                0.2430   \n3            0.2098             0.8663           0.6869                0.2575   \n4            0.1374             0.2050           0.4000                0.1625   \n\n   symmetry_worst  fractal_dimension_worst  \n0          0.4601                  0.11890  \n1          0.2750                  0.08902  \n2          0.3613                  0.08758  \n3          0.6638                  0.17300  \n4          0.2364                  0.07678  \n\n[5 rows x 32 columns]",
      "text/html": "<div>\n<style scoped>\n    .dataframe tbody tr th:only-of-type {\n        vertical-align: middle;\n    }\n\n    .dataframe tbody tr th {\n        vertical-align: top;\n    }\n\n    .dataframe thead th {\n        text-align: right;\n    }\n</style>\n<table border=\"1\" class=\"dataframe\">\n  <thead>\n    <tr style=\"text-align: right;\">\n      <th></th>\n      <th>id</th>\n      <th>diagnosis</th>\n      <th>radius_mean</th>\n      <th>texture_mean</th>\n      <th>perimeter_mean</th>\n      <th>area_mean</th>\n      <th>smoothness_mean</th>\n      <th>compactness_mean</th>\n      <th>concavity_mean</th>\n      <th>concave_points_mean</th>\n      <th>...</th>\n      <th>radius_worst</th>\n      <th>texture_worst</th>\n      <th>perimeter_worst</th>\n      <th>area_worst</th>\n      <th>smoothness_worst</th>\n      <th>compactness_worst</th>\n      <th>concavity_worst</th>\n      <th>concave_points_worst</th>\n      <th>symmetry_worst</th>\n      <th>fractal_dimension_worst</th>\n    </tr>\n  </thead>\n  <tbody>\n    <tr>\n      <th>0</th>\n      <td>842302</td>\n      <td>M</td>\n      <td>17.99</td>\n      <td>10.38</td>\n      <td>122.80</td>\n      <td>1001.0</td>\n      <td>0.11840</td>\n      <td>0.27760</td>\n      <td>0.3001</td>\n      <td>0.14710</td>\n      <td>...</td>\n      <td>25.38</td>\n      <td>17.33</td>\n      <td>184.60</td>\n      <td>2019.0</td>\n      <td>0.1622</td>\n      <td>0.6656</td>\n      <td>0.7119</td>\n      <td>0.2654</td>\n      <td>0.4601</td>\n      <td>0.11890</td>\n    </tr>\n    <tr>\n      <th>1</th>\n      <td>842517</td>\n      <td>M</td>\n      <td>20.57</td>\n      <td>17.77</td>\n      <td>132.90</td>\n      <td>1326.0</td>\n      <td>0.08474</td>\n      <td>0.07864</td>\n      <td>0.0869</td>\n      <td>0.07017</td>\n      <td>...</td>\n      <td>24.99</td>\n      <td>23.41</td>\n      <td>158.80</td>\n      <td>1956.0</td>\n      <td>0.1238</td>\n      <td>0.1866</td>\n      <td>0.2416</td>\n      <td>0.1860</td>\n      <td>0.2750</td>\n      <td>0.08902</td>\n    </tr>\n    <tr>\n      <th>2</th>\n      <td>84300903</td>\n      <td>M</td>\n      <td>19.69</td>\n      <td>21.25</td>\n      <td>130.00</td>\n      <td>1203.0</td>\n      <td>0.10960</td>\n      <td>0.15990</td>\n      <td>0.1974</td>\n      <td>0.12790</td>\n      <td>...</td>\n      <td>23.57</td>\n      <td>25.53</td>\n      <td>152.50</td>\n      <td>1709.0</td>\n      <td>0.1444</td>\n      <td>0.4245</td>\n      <td>0.4504</td>\n      <td>0.2430</td>\n      <td>0.3613</td>\n      <td>0.08758</td>\n    </tr>\n    <tr>\n      <th>3</th>\n      <td>84348301</td>\n      <td>M</td>\n      <td>11.42</td>\n      <td>20.38</td>\n      <td>77.58</td>\n      <td>386.1</td>\n      <td>0.14250</td>\n      <td>0.28390</td>\n      <td>0.2414</td>\n      <td>0.10520</td>\n      <td>...</td>\n      <td>14.91</td>\n      <td>26.50</td>\n      <td>98.87</td>\n      <td>567.7</td>\n      <td>0.2098</td>\n      <td>0.8663</td>\n      <td>0.6869</td>\n      <td>0.2575</td>\n      <td>0.6638</td>\n      <td>0.17300</td>\n    </tr>\n    <tr>\n      <th>4</th>\n      <td>84358402</td>\n      <td>M</td>\n      <td>20.29</td>\n      <td>14.34</td>\n      <td>135.10</td>\n      <td>1297.0</td>\n      <td>0.10030</td>\n      <td>0.13280</td>\n      <td>0.1980</td>\n      <td>0.10430</td>\n      <td>...</td>\n      <td>22.54</td>\n      <td>16.67</td>\n      <td>152.20</td>\n      <td>1575.0</td>\n      <td>0.1374</td>\n      <td>0.2050</td>\n      <td>0.4000</td>\n      <td>0.1625</td>\n      <td>0.2364</td>\n      <td>0.07678</td>\n    </tr>\n  </tbody>\n</table>\n<p>5 rows × 32 columns</p>\n</div>"
     },
     "metadata": {}
    }
   ]
  },
  {
   "cell_type": "code",
   "metadata": {
    "cell_id": "a85a3276c2ee4c5cbaa0a5d6fbb939d4",
    "tags": [],
    "deepnote_to_be_reexecuted": false,
    "source_hash": "14f60b8f",
    "execution_start": 1656791246100,
    "execution_millis": 22,
    "deepnote_cell_type": "code",
    "deepnote_cell_height": 118.1875
   },
   "source": "df.shape",
   "execution_count": null,
   "outputs": [
    {
     "output_type": "execute_result",
     "execution_count": 3,
     "data": {
      "text/plain": "(569, 32)"
     },
     "metadata": {}
    }
   ]
  },
  {
   "cell_type": "code",
   "metadata": {
    "cell_id": "c80a9af9cc8b4996919cc216d47c268a",
    "tags": [],
    "deepnote_to_be_reexecuted": false,
    "source_hash": "f3dd26da",
    "execution_start": 1656791246158,
    "execution_millis": 15,
    "deepnote_cell_type": "code",
    "deepnote_cell_height": 708
   },
   "source": "df.isnull().sum()",
   "execution_count": null,
   "outputs": [
    {
     "output_type": "execute_result",
     "execution_count": 4,
     "data": {
      "text/plain": "id                         0\ndiagnosis                  0\nradius_mean                0\ntexture_mean               0\nperimeter_mean             0\narea_mean                  0\nsmoothness_mean            0\ncompactness_mean           0\nconcavity_mean             0\nconcave_points_mean        0\nsymmetry_mean              0\nfractal_dimension_mean     0\nradius_se                  0\ntexture_se                 0\nperimeter_se               0\narea_se                    0\nsmoothness_se              0\ncompactness_se             0\nconcavity_se               0\nconcave_points_se          0\nsymmetry_se                0\nfractal_dimension_se       0\nradius_worst               0\ntexture_worst              0\nperimeter_worst            0\narea_worst                 0\nsmoothness_worst           0\ncompactness_worst          0\nconcavity_worst            0\nconcave_points_worst       0\nsymmetry_worst             0\nfractal_dimension_worst    0\ndtype: int64"
     },
     "metadata": {}
    }
   ]
  },
  {
   "cell_type": "code",
   "metadata": {
    "cell_id": "0d10316283db4e0e892b64f0bca3a200",
    "tags": [],
    "deepnote_to_be_reexecuted": false,
    "source_hash": "52430027",
    "execution_start": 1656791246220,
    "execution_millis": 0,
    "deepnote_cell_type": "code",
    "deepnote_cell_height": 708
   },
   "source": "df.dtypes",
   "execution_count": null,
   "outputs": [
    {
     "output_type": "execute_result",
     "execution_count": 5,
     "data": {
      "text/plain": "id                           int64\ndiagnosis                   object\nradius_mean                float64\ntexture_mean               float64\nperimeter_mean             float64\narea_mean                  float64\nsmoothness_mean            float64\ncompactness_mean           float64\nconcavity_mean             float64\nconcave_points_mean        float64\nsymmetry_mean              float64\nfractal_dimension_mean     float64\nradius_se                  float64\ntexture_se                 float64\nperimeter_se               float64\narea_se                    float64\nsmoothness_se              float64\ncompactness_se             float64\nconcavity_se               float64\nconcave_points_se          float64\nsymmetry_se                float64\nfractal_dimension_se       float64\nradius_worst               float64\ntexture_worst              float64\nperimeter_worst            float64\narea_worst                 float64\nsmoothness_worst           float64\ncompactness_worst          float64\nconcavity_worst            float64\nconcave_points_worst       float64\nsymmetry_worst             float64\nfractal_dimension_worst    float64\ndtype: object"
     },
     "metadata": {}
    }
   ]
  },
  {
   "cell_type": "code",
   "metadata": {
    "cell_id": "0a038c3a4df045e8b627d07611a5c04d",
    "tags": [],
    "deepnote_to_be_reexecuted": false,
    "source_hash": "89e09888",
    "execution_start": 1656791246221,
    "execution_millis": 165,
    "deepnote_cell_type": "code",
    "deepnote_cell_height": 609.15625
   },
   "source": "df.describe().T",
   "execution_count": null,
   "outputs": [
    {
     "output_type": "execute_result",
     "execution_count": 6,
     "data": {
      "application/vnd.deepnote.dataframe.v3+json": {
       "column_count": 8,
       "row_count": 31,
       "columns": [
        {
         "name": "count",
         "dtype": "float64",
         "stats": {
          "unique_count": 1,
          "nan_count": 0,
          "min": "569.0",
          "max": "569.0",
          "histogram": [
           {
            "bin_start": 568.5,
            "bin_end": 568.6,
            "count": 0
           },
           {
            "bin_start": 568.6,
            "bin_end": 568.7,
            "count": 0
           },
           {
            "bin_start": 568.7,
            "bin_end": 568.8,
            "count": 0
           },
           {
            "bin_start": 568.8,
            "bin_end": 568.9,
            "count": 0
           },
           {
            "bin_start": 568.9,
            "bin_end": 569,
            "count": 0
           },
           {
            "bin_start": 569,
            "bin_end": 569.1,
            "count": 31
           },
           {
            "bin_start": 569.1,
            "bin_end": 569.2,
            "count": 0
           },
           {
            "bin_start": 569.2,
            "bin_end": 569.3,
            "count": 0
           },
           {
            "bin_start": 569.3,
            "bin_end": 569.4,
            "count": 0
           },
           {
            "bin_start": 569.4,
            "bin_end": 569.5,
            "count": 0
           }
          ]
         }
        },
        {
         "name": "mean",
         "dtype": "float64",
         "stats": {
          "unique_count": 31,
          "nan_count": 0,
          "min": "0.0037949038664323374",
          "max": "30371831.432337433",
          "histogram": [
           {
            "bin_start": 0.0037949038664323374,
            "bin_end": 3037183.1466491567,
            "count": 30
           },
           {
            "bin_start": 3037183.1466491567,
            "bin_end": 6074366.2895034095,
            "count": 0
           },
           {
            "bin_start": 6074366.2895034095,
            "bin_end": 9111549.432357661,
            "count": 0
           },
           {
            "bin_start": 9111549.432357661,
            "bin_end": 12148732.575211914,
            "count": 0
           },
           {
            "bin_start": 12148732.575211914,
            "bin_end": 15185915.718066167,
            "count": 0
           },
           {
            "bin_start": 15185915.718066167,
            "bin_end": 18223098.86092042,
            "count": 0
           },
           {
            "bin_start": 18223098.86092042,
            "bin_end": 21260282.003774676,
            "count": 0
           },
           {
            "bin_start": 21260282.003774676,
            "bin_end": 24297465.146628927,
            "count": 0
           },
           {
            "bin_start": 24297465.146628927,
            "bin_end": 27334648.28948318,
            "count": 0
           },
           {
            "bin_start": 27334648.28948318,
            "bin_end": 30371831.432337433,
            "count": 1
           }
          ]
         }
        },
        {
         "name": "std",
         "dtype": "float64",
         "stats": {
          "unique_count": 31,
          "nan_count": 0,
          "min": "0.002646070967089195",
          "max": "125020585.61222365",
          "histogram": [
           {
            "bin_start": 0.002646070967089195,
            "bin_end": 12502058.56360383,
            "count": 30
           },
           {
            "bin_start": 12502058.56360383,
            "bin_end": 25004117.124561585,
            "count": 0
           },
           {
            "bin_start": 25004117.124561585,
            "bin_end": 37506175.685519345,
            "count": 0
           },
           {
            "bin_start": 37506175.685519345,
            "bin_end": 50008234.246477105,
            "count": 0
           },
           {
            "bin_start": 50008234.246477105,
            "bin_end": 62510292.807434864,
            "count": 0
           },
           {
            "bin_start": 62510292.807434864,
            "bin_end": 75012351.36839262,
            "count": 0
           },
           {
            "bin_start": 75012351.36839262,
            "bin_end": 87514409.92935038,
            "count": 0
           },
           {
            "bin_start": 87514409.92935038,
            "bin_end": 100016468.49030814,
            "count": 0
           },
           {
            "bin_start": 100016468.49030814,
            "bin_end": 112518527.0512659,
            "count": 0
           },
           {
            "bin_start": 112518527.0512659,
            "bin_end": 125020585.61222365,
            "count": 1
           }
          ]
         }
        },
        {
         "name": "min",
         "dtype": "float64",
         "stats": {
          "unique_count": 26,
          "nan_count": 0,
          "min": "0.0",
          "max": "8670.0",
          "histogram": [
           {
            "bin_start": 0,
            "bin_end": 867,
            "count": 30
           },
           {
            "bin_start": 867,
            "bin_end": 1734,
            "count": 0
           },
           {
            "bin_start": 1734,
            "bin_end": 2601,
            "count": 0
           },
           {
            "bin_start": 2601,
            "bin_end": 3468,
            "count": 0
           },
           {
            "bin_start": 3468,
            "bin_end": 4335,
            "count": 0
           },
           {
            "bin_start": 4335,
            "bin_end": 5202,
            "count": 0
           },
           {
            "bin_start": 5202,
            "bin_end": 6069,
            "count": 0
           },
           {
            "bin_start": 6069,
            "bin_end": 6936,
            "count": 0
           },
           {
            "bin_start": 6936,
            "bin_end": 7803,
            "count": 0
           },
           {
            "bin_start": 7803,
            "bin_end": 8670,
            "count": 1
           }
          ]
         }
        },
        {
         "name": "25%",
         "dtype": "float64",
         "stats": {
          "unique_count": 31,
          "nan_count": 0,
          "min": "0.002248",
          "max": "869218.0",
          "histogram": [
           {
            "bin_start": 0.002248,
            "bin_end": 86921.8020232,
            "count": 30
           },
           {
            "bin_start": 86921.8020232,
            "bin_end": 173843.6017984,
            "count": 0
           },
           {
            "bin_start": 173843.6017984,
            "bin_end": 260765.4015736,
            "count": 0
           },
           {
            "bin_start": 260765.4015736,
            "bin_end": 347687.2013488,
            "count": 0
           },
           {
            "bin_start": 347687.2013488,
            "bin_end": 434609.00112399994,
            "count": 0
           },
           {
            "bin_start": 434609.00112399994,
            "bin_end": 521530.80089919997,
            "count": 0
           },
           {
            "bin_start": 521530.80089919997,
            "bin_end": 608452.6006744,
            "count": 0
           },
           {
            "bin_start": 608452.6006744,
            "bin_end": 695374.4004496,
            "count": 0
           },
           {
            "bin_start": 695374.4004496,
            "bin_end": 782296.2002247999,
            "count": 0
           },
           {
            "bin_start": 782296.2002247999,
            "bin_end": 869218,
            "count": 1
           }
          ]
         }
        },
        {
         "name": "50%",
         "dtype": "float64",
         "stats": {
          "unique_count": 30,
          "nan_count": 0,
          "min": "0.003187",
          "max": "906024.0",
          "histogram": [
           {
            "bin_start": 0.003187,
            "bin_end": 90602.40286829999,
            "count": 30
           },
           {
            "bin_start": 90602.40286829999,
            "bin_end": 181204.8025496,
            "count": 0
           },
           {
            "bin_start": 181204.8025496,
            "bin_end": 271807.2022309,
            "count": 0
           },
           {
            "bin_start": 271807.2022309,
            "bin_end": 362409.6019122,
            "count": 0
           },
           {
            "bin_start": 362409.6019122,
            "bin_end": 453012.00159349997,
            "count": 0
           },
           {
            "bin_start": 453012.00159349997,
            "bin_end": 543614.4012748001,
            "count": 0
           },
           {
            "bin_start": 543614.4012748001,
            "bin_end": 634216.8009561,
            "count": 0
           },
           {
            "bin_start": 634216.8009561,
            "bin_end": 724819.2006374,
            "count": 0
           },
           {
            "bin_start": 724819.2006374,
            "bin_end": 815421.6003187001,
            "count": 0
           },
           {
            "bin_start": 815421.6003187001,
            "bin_end": 906024,
            "count": 1
           }
          ]
         }
        },
        {
         "name": "75%",
         "dtype": "float64",
         "stats": {
          "unique_count": 31,
          "nan_count": 0,
          "min": "0.004558",
          "max": "8813129.0",
          "histogram": [
           {
            "bin_start": 0.004558,
            "bin_end": 881312.9041022,
            "count": 30
           },
           {
            "bin_start": 881312.9041022,
            "bin_end": 1762625.8036463999,
            "count": 0
           },
           {
            "bin_start": 1762625.8036463999,
            "bin_end": 2643938.7031905996,
            "count": 0
           },
           {
            "bin_start": 2643938.7031905996,
            "bin_end": 3525251.6027347995,
            "count": 0
           },
           {
            "bin_start": 3525251.6027347995,
            "bin_end": 4406564.502278999,
            "count": 0
           },
           {
            "bin_start": 4406564.502278999,
            "bin_end": 5287877.401823199,
            "count": 0
           },
           {
            "bin_start": 5287877.401823199,
            "bin_end": 6169190.301367399,
            "count": 0
           },
           {
            "bin_start": 6169190.301367399,
            "bin_end": 7050503.200911599,
            "count": 0
           },
           {
            "bin_start": 7050503.200911599,
            "bin_end": 7931816.100455799,
            "count": 0
           },
           {
            "bin_start": 7931816.100455799,
            "bin_end": 8813129,
            "count": 1
           }
          ]
         }
        },
        {
         "name": "max",
         "dtype": "float64",
         "stats": {
          "unique_count": 31,
          "nan_count": 0,
          "min": "0.02984",
          "max": "911320502.0",
          "histogram": [
           {
            "bin_start": 0.02984,
            "bin_end": 91132050.22685601,
            "count": 30
           },
           {
            "bin_start": 91132050.22685601,
            "bin_end": 182264100.423872,
            "count": 0
           },
           {
            "bin_start": 182264100.423872,
            "bin_end": 273396150.620888,
            "count": 0
           },
           {
            "bin_start": 273396150.620888,
            "bin_end": 364528200.817904,
            "count": 0
           },
           {
            "bin_start": 364528200.817904,
            "bin_end": 455660251.01492,
            "count": 0
           },
           {
            "bin_start": 455660251.01492,
            "bin_end": 546792301.211936,
            "count": 0
           },
           {
            "bin_start": 546792301.211936,
            "bin_end": 637924351.408952,
            "count": 0
           },
           {
            "bin_start": 637924351.408952,
            "bin_end": 729056401.605968,
            "count": 0
           },
           {
            "bin_start": 729056401.605968,
            "bin_end": 820188451.802984,
            "count": 0
           },
           {
            "bin_start": 820188451.802984,
            "bin_end": 911320502,
            "count": 1
           }
          ]
         }
        },
        {
         "name": "_deepnote_index_column",
         "dtype": "object"
        }
       ],
       "rows": [
        {
         "count": 569,
         "mean": 30371831.432337433,
         "std": 125020585.61222365,
         "min": 8670,
         "25%": 869218,
         "50%": 906024,
         "75%": 8813129,
         "max": 911320502,
         "_deepnote_index_column": "id"
        },
        {
         "count": 569,
         "mean": 14.127291739894552,
         "std": 3.5240488262120775,
         "min": 6.981,
         "25%": 11.7,
         "50%": 13.37,
         "75%": 15.78,
         "max": 28.11,
         "_deepnote_index_column": "radius_mean"
        },
        {
         "count": 569,
         "mean": 19.289648506151142,
         "std": 4.301035768166949,
         "min": 9.71,
         "25%": 16.17,
         "50%": 18.84,
         "75%": 21.8,
         "max": 39.28,
         "_deepnote_index_column": "texture_mean"
        },
        {
         "count": 569,
         "mean": 91.96903339191564,
         "std": 24.298981038754906,
         "min": 43.79,
         "25%": 75.17,
         "50%": 86.24,
         "75%": 104.1,
         "max": 188.5,
         "_deepnote_index_column": "perimeter_mean"
        },
        {
         "count": 569,
         "mean": 654.8891036906855,
         "std": 351.914129181653,
         "min": 143.5,
         "25%": 420.3,
         "50%": 551.1,
         "75%": 782.7,
         "max": 2501,
         "_deepnote_index_column": "area_mean"
        },
        {
         "count": 569,
         "mean": 0.0963602811950791,
         "std": 0.01406412813767362,
         "min": 0.05263,
         "25%": 0.08637,
         "50%": 0.09587,
         "75%": 0.1053,
         "max": 0.1634,
         "_deepnote_index_column": "smoothness_mean"
        },
        {
         "count": 569,
         "mean": 0.10434098418277679,
         "std": 0.052812757932512194,
         "min": 0.01938,
         "25%": 0.06492,
         "50%": 0.09263,
         "75%": 0.1304,
         "max": 0.3454,
         "_deepnote_index_column": "compactness_mean"
        },
        {
         "count": 569,
         "mean": 0.0887993158172232,
         "std": 0.07971980870789348,
         "min": 0,
         "25%": 0.02956,
         "50%": 0.06154,
         "75%": 0.1307,
         "max": 0.4268,
         "_deepnote_index_column": "concavity_mean"
        },
        {
         "count": 569,
         "mean": 0.04891914586994728,
         "std": 0.038802844859153605,
         "min": 0,
         "25%": 0.02031,
         "50%": 0.0335,
         "75%": 0.074,
         "max": 0.2012,
         "_deepnote_index_column": "concave_points_mean"
        },
        {
         "count": 569,
         "mean": 0.18116186291739894,
         "std": 0.027414281336035715,
         "min": 0.106,
         "25%": 0.1619,
         "50%": 0.1792,
         "75%": 0.1957,
         "max": 0.304,
         "_deepnote_index_column": "symmetry_mean"
        }
       ]
      },
      "text/plain": "                         count          mean           std          min  \\\nid                       569.0  3.037183e+07  1.250206e+08  8670.000000   \nradius_mean              569.0  1.412729e+01  3.524049e+00     6.981000   \ntexture_mean             569.0  1.928965e+01  4.301036e+00     9.710000   \nperimeter_mean           569.0  9.196903e+01  2.429898e+01    43.790000   \narea_mean                569.0  6.548891e+02  3.519141e+02   143.500000   \nsmoothness_mean          569.0  9.636028e-02  1.406413e-02     0.052630   \ncompactness_mean         569.0  1.043410e-01  5.281276e-02     0.019380   \nconcavity_mean           569.0  8.879932e-02  7.971981e-02     0.000000   \nconcave_points_mean      569.0  4.891915e-02  3.880284e-02     0.000000   \nsymmetry_mean            569.0  1.811619e-01  2.741428e-02     0.106000   \nfractal_dimension_mean   569.0  6.279761e-02  7.060363e-03     0.049960   \nradius_se                569.0  4.051721e-01  2.773127e-01     0.111500   \ntexture_se               569.0  1.216853e+00  5.516484e-01     0.360200   \nperimeter_se             569.0  2.866059e+00  2.021855e+00     0.757000   \narea_se                  569.0  4.033708e+01  4.549101e+01     6.802000   \nsmoothness_se            569.0  7.040979e-03  3.002518e-03     0.001713   \ncompactness_se           569.0  2.547814e-02  1.790818e-02     0.002252   \nconcavity_se             569.0  3.189372e-02  3.018606e-02     0.000000   \nconcave_points_se        569.0  1.179614e-02  6.170285e-03     0.000000   \nsymmetry_se              569.0  2.054230e-02  8.266372e-03     0.007882   \nfractal_dimension_se     569.0  3.794904e-03  2.646071e-03     0.000895   \nradius_worst             569.0  1.626919e+01  4.833242e+00     7.930000   \ntexture_worst            569.0  2.567722e+01  6.146258e+00    12.020000   \nperimeter_worst          569.0  1.072612e+02  3.360254e+01    50.410000   \narea_worst               569.0  8.805831e+02  5.693570e+02   185.200000   \nsmoothness_worst         569.0  1.323686e-01  2.283243e-02     0.071170   \ncompactness_worst        569.0  2.542650e-01  1.573365e-01     0.027290   \nconcavity_worst          569.0  2.721885e-01  2.086243e-01     0.000000   \nconcave_points_worst     569.0  1.146062e-01  6.573234e-02     0.000000   \nsymmetry_worst           569.0  2.900756e-01  6.186747e-02     0.156500   \nfractal_dimension_worst  569.0  8.394582e-02  1.806127e-02     0.055040   \n\n                                   25%            50%           75%  \\\nid                       869218.000000  906024.000000  8.813129e+06   \nradius_mean                  11.700000      13.370000  1.578000e+01   \ntexture_mean                 16.170000      18.840000  2.180000e+01   \nperimeter_mean               75.170000      86.240000  1.041000e+02   \narea_mean                   420.300000     551.100000  7.827000e+02   \nsmoothness_mean               0.086370       0.095870  1.053000e-01   \ncompactness_mean              0.064920       0.092630  1.304000e-01   \nconcavity_mean                0.029560       0.061540  1.307000e-01   \nconcave_points_mean           0.020310       0.033500  7.400000e-02   \nsymmetry_mean                 0.161900       0.179200  1.957000e-01   \nfractal_dimension_mean        0.057700       0.061540  6.612000e-02   \nradius_se                     0.232400       0.324200  4.789000e-01   \ntexture_se                    0.833900       1.108000  1.474000e+00   \nperimeter_se                  1.606000       2.287000  3.357000e+00   \narea_se                      17.850000      24.530000  4.519000e+01   \nsmoothness_se                 0.005169       0.006380  8.146000e-03   \ncompactness_se                0.013080       0.020450  3.245000e-02   \nconcavity_se                  0.015090       0.025890  4.205000e-02   \nconcave_points_se             0.007638       0.010930  1.471000e-02   \nsymmetry_se                   0.015160       0.018730  2.348000e-02   \nfractal_dimension_se          0.002248       0.003187  4.558000e-03   \nradius_worst                 13.010000      14.970000  1.879000e+01   \ntexture_worst                21.080000      25.410000  2.972000e+01   \nperimeter_worst              84.110000      97.660000  1.254000e+02   \narea_worst                  515.300000     686.500000  1.084000e+03   \nsmoothness_worst              0.116600       0.131300  1.460000e-01   \ncompactness_worst             0.147200       0.211900  3.391000e-01   \nconcavity_worst               0.114500       0.226700  3.829000e-01   \nconcave_points_worst          0.064930       0.099930  1.614000e-01   \nsymmetry_worst                0.250400       0.282200  3.179000e-01   \nfractal_dimension_worst       0.071460       0.080040  9.208000e-02   \n\n                                  max  \nid                       9.113205e+08  \nradius_mean              2.811000e+01  \ntexture_mean             3.928000e+01  \nperimeter_mean           1.885000e+02  \narea_mean                2.501000e+03  \nsmoothness_mean          1.634000e-01  \ncompactness_mean         3.454000e-01  \nconcavity_mean           4.268000e-01  \nconcave_points_mean      2.012000e-01  \nsymmetry_mean            3.040000e-01  \nfractal_dimension_mean   9.744000e-02  \nradius_se                2.873000e+00  \ntexture_se               4.885000e+00  \nperimeter_se             2.198000e+01  \narea_se                  5.422000e+02  \nsmoothness_se            3.113000e-02  \ncompactness_se           1.354000e-01  \nconcavity_se             3.960000e-01  \nconcave_points_se        5.279000e-02  \nsymmetry_se              7.895000e-02  \nfractal_dimension_se     2.984000e-02  \nradius_worst             3.604000e+01  \ntexture_worst            4.954000e+01  \nperimeter_worst          2.512000e+02  \narea_worst               4.254000e+03  \nsmoothness_worst         2.226000e-01  \ncompactness_worst        1.058000e+00  \nconcavity_worst          1.252000e+00  \nconcave_points_worst     2.910000e-01  \nsymmetry_worst           6.638000e-01  \nfractal_dimension_worst  2.075000e-01  ",
      "text/html": "<div>\n<style scoped>\n    .dataframe tbody tr th:only-of-type {\n        vertical-align: middle;\n    }\n\n    .dataframe tbody tr th {\n        vertical-align: top;\n    }\n\n    .dataframe thead th {\n        text-align: right;\n    }\n</style>\n<table border=\"1\" class=\"dataframe\">\n  <thead>\n    <tr style=\"text-align: right;\">\n      <th></th>\n      <th>count</th>\n      <th>mean</th>\n      <th>std</th>\n      <th>min</th>\n      <th>25%</th>\n      <th>50%</th>\n      <th>75%</th>\n      <th>max</th>\n    </tr>\n  </thead>\n  <tbody>\n    <tr>\n      <th>id</th>\n      <td>569.0</td>\n      <td>3.037183e+07</td>\n      <td>1.250206e+08</td>\n      <td>8670.000000</td>\n      <td>869218.000000</td>\n      <td>906024.000000</td>\n      <td>8.813129e+06</td>\n      <td>9.113205e+08</td>\n    </tr>\n    <tr>\n      <th>radius_mean</th>\n      <td>569.0</td>\n      <td>1.412729e+01</td>\n      <td>3.524049e+00</td>\n      <td>6.981000</td>\n      <td>11.700000</td>\n      <td>13.370000</td>\n      <td>1.578000e+01</td>\n      <td>2.811000e+01</td>\n    </tr>\n    <tr>\n      <th>texture_mean</th>\n      <td>569.0</td>\n      <td>1.928965e+01</td>\n      <td>4.301036e+00</td>\n      <td>9.710000</td>\n      <td>16.170000</td>\n      <td>18.840000</td>\n      <td>2.180000e+01</td>\n      <td>3.928000e+01</td>\n    </tr>\n    <tr>\n      <th>perimeter_mean</th>\n      <td>569.0</td>\n      <td>9.196903e+01</td>\n      <td>2.429898e+01</td>\n      <td>43.790000</td>\n      <td>75.170000</td>\n      <td>86.240000</td>\n      <td>1.041000e+02</td>\n      <td>1.885000e+02</td>\n    </tr>\n    <tr>\n      <th>area_mean</th>\n      <td>569.0</td>\n      <td>6.548891e+02</td>\n      <td>3.519141e+02</td>\n      <td>143.500000</td>\n      <td>420.300000</td>\n      <td>551.100000</td>\n      <td>7.827000e+02</td>\n      <td>2.501000e+03</td>\n    </tr>\n    <tr>\n      <th>smoothness_mean</th>\n      <td>569.0</td>\n      <td>9.636028e-02</td>\n      <td>1.406413e-02</td>\n      <td>0.052630</td>\n      <td>0.086370</td>\n      <td>0.095870</td>\n      <td>1.053000e-01</td>\n      <td>1.634000e-01</td>\n    </tr>\n    <tr>\n      <th>compactness_mean</th>\n      <td>569.0</td>\n      <td>1.043410e-01</td>\n      <td>5.281276e-02</td>\n      <td>0.019380</td>\n      <td>0.064920</td>\n      <td>0.092630</td>\n      <td>1.304000e-01</td>\n      <td>3.454000e-01</td>\n    </tr>\n    <tr>\n      <th>concavity_mean</th>\n      <td>569.0</td>\n      <td>8.879932e-02</td>\n      <td>7.971981e-02</td>\n      <td>0.000000</td>\n      <td>0.029560</td>\n      <td>0.061540</td>\n      <td>1.307000e-01</td>\n      <td>4.268000e-01</td>\n    </tr>\n    <tr>\n      <th>concave_points_mean</th>\n      <td>569.0</td>\n      <td>4.891915e-02</td>\n      <td>3.880284e-02</td>\n      <td>0.000000</td>\n      <td>0.020310</td>\n      <td>0.033500</td>\n      <td>7.400000e-02</td>\n      <td>2.012000e-01</td>\n    </tr>\n    <tr>\n      <th>symmetry_mean</th>\n      <td>569.0</td>\n      <td>1.811619e-01</td>\n      <td>2.741428e-02</td>\n      <td>0.106000</td>\n      <td>0.161900</td>\n      <td>0.179200</td>\n      <td>1.957000e-01</td>\n      <td>3.040000e-01</td>\n    </tr>\n    <tr>\n      <th>fractal_dimension_mean</th>\n      <td>569.0</td>\n      <td>6.279761e-02</td>\n      <td>7.060363e-03</td>\n      <td>0.049960</td>\n      <td>0.057700</td>\n      <td>0.061540</td>\n      <td>6.612000e-02</td>\n      <td>9.744000e-02</td>\n    </tr>\n    <tr>\n      <th>radius_se</th>\n      <td>569.0</td>\n      <td>4.051721e-01</td>\n      <td>2.773127e-01</td>\n      <td>0.111500</td>\n      <td>0.232400</td>\n      <td>0.324200</td>\n      <td>4.789000e-01</td>\n      <td>2.873000e+00</td>\n    </tr>\n    <tr>\n      <th>texture_se</th>\n      <td>569.0</td>\n      <td>1.216853e+00</td>\n      <td>5.516484e-01</td>\n      <td>0.360200</td>\n      <td>0.833900</td>\n      <td>1.108000</td>\n      <td>1.474000e+00</td>\n      <td>4.885000e+00</td>\n    </tr>\n    <tr>\n      <th>perimeter_se</th>\n      <td>569.0</td>\n      <td>2.866059e+00</td>\n      <td>2.021855e+00</td>\n      <td>0.757000</td>\n      <td>1.606000</td>\n      <td>2.287000</td>\n      <td>3.357000e+00</td>\n      <td>2.198000e+01</td>\n    </tr>\n    <tr>\n      <th>area_se</th>\n      <td>569.0</td>\n      <td>4.033708e+01</td>\n      <td>4.549101e+01</td>\n      <td>6.802000</td>\n      <td>17.850000</td>\n      <td>24.530000</td>\n      <td>4.519000e+01</td>\n      <td>5.422000e+02</td>\n    </tr>\n    <tr>\n      <th>smoothness_se</th>\n      <td>569.0</td>\n      <td>7.040979e-03</td>\n      <td>3.002518e-03</td>\n      <td>0.001713</td>\n      <td>0.005169</td>\n      <td>0.006380</td>\n      <td>8.146000e-03</td>\n      <td>3.113000e-02</td>\n    </tr>\n    <tr>\n      <th>compactness_se</th>\n      <td>569.0</td>\n      <td>2.547814e-02</td>\n      <td>1.790818e-02</td>\n      <td>0.002252</td>\n      <td>0.013080</td>\n      <td>0.020450</td>\n      <td>3.245000e-02</td>\n      <td>1.354000e-01</td>\n    </tr>\n    <tr>\n      <th>concavity_se</th>\n      <td>569.0</td>\n      <td>3.189372e-02</td>\n      <td>3.018606e-02</td>\n      <td>0.000000</td>\n      <td>0.015090</td>\n      <td>0.025890</td>\n      <td>4.205000e-02</td>\n      <td>3.960000e-01</td>\n    </tr>\n    <tr>\n      <th>concave_points_se</th>\n      <td>569.0</td>\n      <td>1.179614e-02</td>\n      <td>6.170285e-03</td>\n      <td>0.000000</td>\n      <td>0.007638</td>\n      <td>0.010930</td>\n      <td>1.471000e-02</td>\n      <td>5.279000e-02</td>\n    </tr>\n    <tr>\n      <th>symmetry_se</th>\n      <td>569.0</td>\n      <td>2.054230e-02</td>\n      <td>8.266372e-03</td>\n      <td>0.007882</td>\n      <td>0.015160</td>\n      <td>0.018730</td>\n      <td>2.348000e-02</td>\n      <td>7.895000e-02</td>\n    </tr>\n    <tr>\n      <th>fractal_dimension_se</th>\n      <td>569.0</td>\n      <td>3.794904e-03</td>\n      <td>2.646071e-03</td>\n      <td>0.000895</td>\n      <td>0.002248</td>\n      <td>0.003187</td>\n      <td>4.558000e-03</td>\n      <td>2.984000e-02</td>\n    </tr>\n    <tr>\n      <th>radius_worst</th>\n      <td>569.0</td>\n      <td>1.626919e+01</td>\n      <td>4.833242e+00</td>\n      <td>7.930000</td>\n      <td>13.010000</td>\n      <td>14.970000</td>\n      <td>1.879000e+01</td>\n      <td>3.604000e+01</td>\n    </tr>\n    <tr>\n      <th>texture_worst</th>\n      <td>569.0</td>\n      <td>2.567722e+01</td>\n      <td>6.146258e+00</td>\n      <td>12.020000</td>\n      <td>21.080000</td>\n      <td>25.410000</td>\n      <td>2.972000e+01</td>\n      <td>4.954000e+01</td>\n    </tr>\n    <tr>\n      <th>perimeter_worst</th>\n      <td>569.0</td>\n      <td>1.072612e+02</td>\n      <td>3.360254e+01</td>\n      <td>50.410000</td>\n      <td>84.110000</td>\n      <td>97.660000</td>\n      <td>1.254000e+02</td>\n      <td>2.512000e+02</td>\n    </tr>\n    <tr>\n      <th>area_worst</th>\n      <td>569.0</td>\n      <td>8.805831e+02</td>\n      <td>5.693570e+02</td>\n      <td>185.200000</td>\n      <td>515.300000</td>\n      <td>686.500000</td>\n      <td>1.084000e+03</td>\n      <td>4.254000e+03</td>\n    </tr>\n    <tr>\n      <th>smoothness_worst</th>\n      <td>569.0</td>\n      <td>1.323686e-01</td>\n      <td>2.283243e-02</td>\n      <td>0.071170</td>\n      <td>0.116600</td>\n      <td>0.131300</td>\n      <td>1.460000e-01</td>\n      <td>2.226000e-01</td>\n    </tr>\n    <tr>\n      <th>compactness_worst</th>\n      <td>569.0</td>\n      <td>2.542650e-01</td>\n      <td>1.573365e-01</td>\n      <td>0.027290</td>\n      <td>0.147200</td>\n      <td>0.211900</td>\n      <td>3.391000e-01</td>\n      <td>1.058000e+00</td>\n    </tr>\n    <tr>\n      <th>concavity_worst</th>\n      <td>569.0</td>\n      <td>2.721885e-01</td>\n      <td>2.086243e-01</td>\n      <td>0.000000</td>\n      <td>0.114500</td>\n      <td>0.226700</td>\n      <td>3.829000e-01</td>\n      <td>1.252000e+00</td>\n    </tr>\n    <tr>\n      <th>concave_points_worst</th>\n      <td>569.0</td>\n      <td>1.146062e-01</td>\n      <td>6.573234e-02</td>\n      <td>0.000000</td>\n      <td>0.064930</td>\n      <td>0.099930</td>\n      <td>1.614000e-01</td>\n      <td>2.910000e-01</td>\n    </tr>\n    <tr>\n      <th>symmetry_worst</th>\n      <td>569.0</td>\n      <td>2.900756e-01</td>\n      <td>6.186747e-02</td>\n      <td>0.156500</td>\n      <td>0.250400</td>\n      <td>0.282200</td>\n      <td>3.179000e-01</td>\n      <td>6.638000e-01</td>\n    </tr>\n    <tr>\n      <th>fractal_dimension_worst</th>\n      <td>569.0</td>\n      <td>8.394582e-02</td>\n      <td>1.806127e-02</td>\n      <td>0.055040</td>\n      <td>0.071460</td>\n      <td>0.080040</td>\n      <td>9.208000e-02</td>\n      <td>2.075000e-01</td>\n    </tr>\n  </tbody>\n</table>\n</div>"
     },
     "metadata": {}
    }
   ]
  },
  {
   "cell_type": "code",
   "metadata": {
    "cell_id": "68a1f515849046f291ff7f850ba1630d",
    "tags": [],
    "deepnote_to_be_reexecuted": false,
    "source_hash": "d70ecadb",
    "execution_start": 1656791246397,
    "execution_millis": 366,
    "deepnote_cell_type": "code",
    "deepnote_cell_height": 367,
    "deepnote_output_heights": [
     270
    ]
   },
   "source": "ax= sns.countplot(df.diagnosis)",
   "execution_count": null,
   "outputs": [
    {
     "data": {
      "text/plain": "<Figure size 432x288 with 1 Axes>",
      "image/png": "[encoded data removed]"
     },
     "metadata": {
      "needs_background": "light",
      "image/png": {
       "width": 396,
       "height": 268
      }
     },
     "output_type": "display_data"
    }
   ]
  },
  {
   "cell_type": "code",
   "metadata": {
    "cell_id": "f653c5f64b984bd09081f940f1fd2206",
    "tags": [],
    "deepnote_to_be_reexecuted": false,
    "source_hash": "6f16190a",
    "execution_start": 1656791246812,
    "execution_millis": 1,
    "deepnote_cell_type": "code",
    "deepnote_cell_height": 156.59375
   },
   "source": "df.diagnosis.value_counts()",
   "execution_count": null,
   "outputs": [
    {
     "output_type": "execute_result",
     "execution_count": 8,
     "data": {
      "text/plain": "B    357\nM    212\nName: diagnosis, dtype: int64"
     },
     "metadata": {}
    }
   ]
  },
  {
   "cell_type": "code",
   "metadata": {
    "cell_id": "6a6c9022f29b40d4946cc1f2e73609a2",
    "tags": [],
    "deepnote_to_be_reexecuted": false,
    "source_hash": "2fcdb01d",
    "execution_start": 1656791246858,
    "execution_millis": 153,
    "deepnote_cell_type": "code",
    "deepnote_cell_height": 117
   },
   "source": "from sklearn.preprocessing import LabelEncoder\nlabelencoder_Y = LabelEncoder()\ndf.iloc[:,1] = labelencoder_Y.fit_transform(df.iloc[:,1].values)",
   "execution_count": null,
   "outputs": []
  },
  {
   "cell_type": "code",
   "metadata": {
    "cell_id": "4674a73ab60949d6bbe50d1eb3c8dcc7",
    "tags": [],
    "deepnote_to_be_reexecuted": false,
    "source_hash": "ea638f08",
    "execution_start": 1656791247021,
    "execution_millis": 3806,
    "deepnote_cell_type": "code",
    "deepnote_cell_height": 632,
    "deepnote_output_heights": [
     535
    ]
   },
   "source": "ax= sns.pairplot(df.iloc[:,1:5], hue= 'diagnosis')",
   "execution_count": null,
   "outputs": [
    {
     "data": {
      "text/plain": "<Figure size 605.925x540 with 12 Axes>",
      "image/png": "[encoded data removed]"
     },
     "metadata": {
      "needs_background": "light",
      "image/png": {
       "width": 603,
       "height": 533
      }
     },
     "output_type": "display_data"
    }
   ]
  },
  {
   "cell_type": "code",
   "metadata": {
    "cell_id": "09e90ab292c640ffafc4714cde070fc1",
    "tags": [],
    "deepnote_to_be_reexecuted": false,
    "source_hash": "c085b6ba",
    "execution_start": 1656791250520,
    "execution_millis": 309,
    "deepnote_cell_type": "code",
    "deepnote_cell_height": 404.15625
   },
   "source": "df.head()",
   "execution_count": null,
   "outputs": [
    {
     "output_type": "execute_result",
     "execution_count": 11,
     "data": {
      "application/vnd.deepnote.dataframe.v3+json": {
       "column_count": 32,
       "row_count": 5,
       "columns": [
        {
         "name": "id",
         "dtype": "int64",
         "stats": {
          "unique_count": 5,
          "nan_count": 0,
          "min": "842302",
          "max": "84358402",
          "histogram": [
           {
            "bin_start": 842302,
            "bin_end": 9193912,
            "count": 2
           },
           {
            "bin_start": 9193912,
            "bin_end": 17545522,
            "count": 0
           },
           {
            "bin_start": 17545522,
            "bin_end": 25897132,
            "count": 0
           },
           {
            "bin_start": 25897132,
            "bin_end": 34248742,
            "count": 0
           },
           {
            "bin_start": 34248742,
            "bin_end": 42600352,
            "count": 0
           },
           {
            "bin_start": 42600352,
            "bin_end": 50951962,
            "count": 0
           },
           {
            "bin_start": 50951962,
            "bin_end": 59303572,
            "count": 0
           },
           {
            "bin_start": 59303572,
            "bin_end": 67655182,
            "count": 0
           },
           {
            "bin_start": 67655182,
            "bin_end": 76006792,
            "count": 0
           },
           {
            "bin_start": 76006792,
            "bin_end": 84358402,
            "count": 3
           }
          ]
         }
        },
        {
         "name": "diagnosis",
         "dtype": "int64",
         "stats": {
          "unique_count": 1,
          "nan_count": 0,
          "min": "1",
          "max": "1",
          "histogram": [
           {
            "bin_start": 0.5,
            "bin_end": 0.6,
            "count": 0
           },
           {
            "bin_start": 0.6,
            "bin_end": 0.7,
            "count": 0
           },
           {
            "bin_start": 0.7,
            "bin_end": 0.8,
            "count": 0
           },
           {
            "bin_start": 0.8,
            "bin_end": 0.9,
            "count": 0
           },
           {
            "bin_start": 0.9,
            "bin_end": 1,
            "count": 0
           },
           {
            "bin_start": 1,
            "bin_end": 1.1,
            "count": 5
           },
           {
            "bin_start": 1.1,
            "bin_end": 1.2000000000000002,
            "count": 0
           },
           {
            "bin_start": 1.2000000000000002,
            "bin_end": 1.3,
            "count": 0
           },
           {
            "bin_start": 1.3,
            "bin_end": 1.4,
            "count": 0
           },
           {
            "bin_start": 1.4,
            "bin_end": 1.5,
            "count": 0
           }
          ]
         }
        },
        {
         "name": "radius_mean",
         "dtype": "float64",
         "stats": {
          "unique_count": 5,
          "nan_count": 0,
          "min": "11.42",
          "max": "20.57",
          "histogram": [
           {
            "bin_start": 11.42,
            "bin_end": 12.335,
            "count": 1
           },
           {
            "bin_start": 12.335,
            "bin_end": 13.25,
            "count": 0
           },
           {
            "bin_start": 13.25,
            "bin_end": 14.165,
            "count": 0
           },
           {
            "bin_start": 14.165,
            "bin_end": 15.08,
            "count": 0
           },
           {
            "bin_start": 15.08,
            "bin_end": 15.995000000000001,
            "count": 0
           },
           {
            "bin_start": 15.995000000000001,
            "bin_end": 16.91,
            "count": 0
           },
           {
            "bin_start": 16.91,
            "bin_end": 17.825,
            "count": 0
           },
           {
            "bin_start": 17.825,
            "bin_end": 18.740000000000002,
            "count": 1
           },
           {
            "bin_start": 18.740000000000002,
            "bin_end": 19.655,
            "count": 0
           },
           {
            "bin_start": 19.655,
            "bin_end": 20.57,
            "count": 3
           }
          ]
         }
        },
        {
         "name": "texture_mean",
         "dtype": "float64",
         "stats": {
          "unique_count": 5,
          "nan_count": 0,
          "min": "10.38",
          "max": "21.25",
          "histogram": [
           {
            "bin_start": 10.38,
            "bin_end": 11.467,
            "count": 1
           },
           {
            "bin_start": 11.467,
            "bin_end": 12.554,
            "count": 0
           },
           {
            "bin_start": 12.554,
            "bin_end": 13.641000000000002,
            "count": 0
           },
           {
            "bin_start": 13.641000000000002,
            "bin_end": 14.728000000000002,
            "count": 1
           },
           {
            "bin_start": 14.728000000000002,
            "bin_end": 15.815000000000001,
            "count": 0
           },
           {
            "bin_start": 15.815000000000001,
            "bin_end": 16.902,
            "count": 0
           },
           {
            "bin_start": 16.902,
            "bin_end": 17.989,
            "count": 1
           },
           {
            "bin_start": 17.989,
            "bin_end": 19.076,
            "count": 0
           },
           {
            "bin_start": 19.076,
            "bin_end": 20.163,
            "count": 0
           },
           {
            "bin_start": 20.163,
            "bin_end": 21.25,
            "count": 2
           }
          ]
         }
        },
        {
         "name": "perimeter_mean",
         "dtype": "float64",
         "stats": {
          "unique_count": 5,
          "nan_count": 0,
          "min": "77.58",
          "max": "135.1",
          "histogram": [
           {
            "bin_start": 77.58,
            "bin_end": 83.332,
            "count": 1
           },
           {
            "bin_start": 83.332,
            "bin_end": 89.084,
            "count": 0
           },
           {
            "bin_start": 89.084,
            "bin_end": 94.836,
            "count": 0
           },
           {
            "bin_start": 94.836,
            "bin_end": 100.588,
            "count": 0
           },
           {
            "bin_start": 100.588,
            "bin_end": 106.34,
            "count": 0
           },
           {
            "bin_start": 106.34,
            "bin_end": 112.092,
            "count": 0
           },
           {
            "bin_start": 112.092,
            "bin_end": 117.844,
            "count": 0
           },
           {
            "bin_start": 117.844,
            "bin_end": 123.596,
            "count": 1
           },
           {
            "bin_start": 123.596,
            "bin_end": 129.348,
            "count": 0
           },
           {
            "bin_start": 129.348,
            "bin_end": 135.1,
            "count": 3
           }
          ]
         }
        },
        {
         "name": "area_mean",
         "dtype": "float64",
         "stats": {
          "unique_count": 5,
          "nan_count": 0,
          "min": "386.1",
          "max": "1326.0",
          "histogram": [
           {
            "bin_start": 386.1,
            "bin_end": 480.09000000000003,
            "count": 1
           },
           {
            "bin_start": 480.09000000000003,
            "bin_end": 574.08,
            "count": 0
           },
           {
            "bin_start": 574.08,
            "bin_end": 668.0699999999999,
            "count": 0
           },
           {
            "bin_start": 668.0699999999999,
            "bin_end": 762.06,
            "count": 0
           },
           {
            "bin_start": 762.06,
            "bin_end": 856.05,
            "count": 0
           },
           {
            "bin_start": 856.05,
            "bin_end": 950.04,
            "count": 0
           },
           {
            "bin_start": 950.04,
            "bin_end": 1044.03,
            "count": 1
           },
           {
            "bin_start": 1044.03,
            "bin_end": 1138.02,
            "count": 0
           },
           {
            "bin_start": 1138.02,
            "bin_end": 1232.01,
            "count": 1
           },
           {
            "bin_start": 1232.01,
            "bin_end": 1326,
            "count": 2
           }
          ]
         }
        },
        {
         "name": "smoothness_mean",
         "dtype": "float64",
         "stats": {
          "unique_count": 5,
          "nan_count": 0,
          "min": "0.08474",
          "max": "0.1425",
          "histogram": [
           {
            "bin_start": 0.08474,
            "bin_end": 0.090516,
            "count": 1
           },
           {
            "bin_start": 0.090516,
            "bin_end": 0.09629199999999999,
            "count": 0
           },
           {
            "bin_start": 0.09629199999999999,
            "bin_end": 0.10206799999999999,
            "count": 1
           },
           {
            "bin_start": 0.10206799999999999,
            "bin_end": 0.107844,
            "count": 0
           },
           {
            "bin_start": 0.107844,
            "bin_end": 0.11362,
            "count": 1
           },
           {
            "bin_start": 0.11362,
            "bin_end": 0.11939599999999999,
            "count": 1
           },
           {
            "bin_start": 0.11939599999999999,
            "bin_end": 0.125172,
            "count": 0
           },
           {
            "bin_start": 0.125172,
            "bin_end": 0.13094799999999998,
            "count": 0
           },
           {
            "bin_start": 0.13094799999999998,
            "bin_end": 0.13672399999999998,
            "count": 0
           },
           {
            "bin_start": 0.13672399999999998,
            "bin_end": 0.1425,
            "count": 1
           }
          ]
         }
        },
        {
         "name": "compactness_mean",
         "dtype": "float64",
         "stats": {
          "unique_count": 5,
          "nan_count": 0,
          "min": "0.07864",
          "max": "0.2839",
          "histogram": [
           {
            "bin_start": 0.07864,
            "bin_end": 0.099166,
            "count": 1
           },
           {
            "bin_start": 0.099166,
            "bin_end": 0.11969199999999999,
            "count": 0
           },
           {
            "bin_start": 0.11969199999999999,
            "bin_end": 0.140218,
            "count": 1
           },
           {
            "bin_start": 0.140218,
            "bin_end": 0.160744,
            "count": 1
           },
           {
            "bin_start": 0.160744,
            "bin_end": 0.18127,
            "count": 0
           },
           {
            "bin_start": 0.18127,
            "bin_end": 0.20179599999999998,
            "count": 0
           },
           {
            "bin_start": 0.20179599999999998,
            "bin_end": 0.22232200000000002,
            "count": 0
           },
           {
            "bin_start": 0.22232200000000002,
            "bin_end": 0.242848,
            "count": 0
           },
           {
            "bin_start": 0.242848,
            "bin_end": 0.263374,
            "count": 0
           },
           {
            "bin_start": 0.263374,
            "bin_end": 0.2839,
            "count": 2
           }
          ]
         }
        },
        {
         "name": "concavity_mean",
         "dtype": "float64",
         "stats": {
          "unique_count": 5,
          "nan_count": 0,
          "min": "0.0869",
          "max": "0.3001",
          "histogram": [
           {
            "bin_start": 0.0869,
            "bin_end": 0.10822000000000001,
            "count": 1
           },
           {
            "bin_start": 0.10822000000000001,
            "bin_end": 0.12954,
            "count": 0
           },
           {
            "bin_start": 0.12954,
            "bin_end": 0.15086,
            "count": 0
           },
           {
            "bin_start": 0.15086,
            "bin_end": 0.17218,
            "count": 0
           },
           {
            "bin_start": 0.17218,
            "bin_end": 0.1935,
            "count": 0
           },
           {
            "bin_start": 0.1935,
            "bin_end": 0.21481999999999998,
            "count": 2
           },
           {
            "bin_start": 0.21481999999999998,
            "bin_end": 0.23614,
            "count": 0
           },
           {
            "bin_start": 0.23614,
            "bin_end": 0.25746,
            "count": 1
           },
           {
            "bin_start": 0.25746,
            "bin_end": 0.27878000000000003,
            "count": 0
           },
           {
            "bin_start": 0.27878000000000003,
            "bin_end": 0.3001,
            "count": 1
           }
          ]
         }
        },
        {
         "name": "concave_points_mean",
         "dtype": "float64",
         "stats": {
          "unique_count": 5,
          "nan_count": 0,
          "min": "0.07017",
          "max": "0.1471",
          "histogram": [
           {
            "bin_start": 0.07017,
            "bin_end": 0.077863,
            "count": 1
           },
           {
            "bin_start": 0.077863,
            "bin_end": 0.085556,
            "count": 0
           },
           {
            "bin_start": 0.085556,
            "bin_end": 0.093249,
            "count": 0
           },
           {
            "bin_start": 0.093249,
            "bin_end": 0.100942,
            "count": 0
           },
           {
            "bin_start": 0.100942,
            "bin_end": 0.10863500000000001,
            "count": 2
           },
           {
            "bin_start": 0.10863500000000001,
            "bin_end": 0.116328,
            "count": 0
           },
           {
            "bin_start": 0.116328,
            "bin_end": 0.124021,
            "count": 0
           },
           {
            "bin_start": 0.124021,
            "bin_end": 0.131714,
            "count": 1
           },
           {
            "bin_start": 0.131714,
            "bin_end": 0.139407,
            "count": 0
           },
           {
            "bin_start": 0.139407,
            "bin_end": 0.1471,
            "count": 1
           }
          ]
         }
        },
        {
         "name": "symmetry_mean",
         "dtype": "float64",
         "stats": {
          "unique_count": 5,
          "nan_count": 0,
          "min": "0.1809",
          "max": "0.2597",
          "histogram": [
           {
            "bin_start": 0.1809,
            "bin_end": 0.18878,
            "count": 2
           },
           {
            "bin_start": 0.18878,
            "bin_end": 0.19666,
            "count": 0
           },
           {
            "bin_start": 0.19666,
            "bin_end": 0.20454,
            "count": 0
           },
           {
            "bin_start": 0.20454,
            "bin_end": 0.21242,
            "count": 1
           },
           {
            "bin_start": 0.21242,
            "bin_end": 0.2203,
            "count": 0
           },
           {
            "bin_start": 0.2203,
            "bin_end": 0.22818,
            "count": 0
           },
           {
            "bin_start": 0.22818,
            "bin_end": 0.23606,
            "count": 0
           },
           {
            "bin_start": 0.23606,
            "bin_end": 0.24394,
            "count": 1
           },
           {
            "bin_start": 0.24394,
            "bin_end": 0.25182,
            "count": 0
           },
           {
            "bin_start": 0.25182,
            "bin_end": 0.2597,
            "count": 1
           }
          ]
         }
        },
        {
         "name": "fractal_dimension_mean",
         "dtype": "float64",
         "stats": {
          "unique_count": 5,
          "nan_count": 0,
          "min": "0.05667",
          "max": "0.09744",
          "histogram": [
           {
            "bin_start": 0.05667,
            "bin_end": 0.060746999999999995,
            "count": 3
           },
           {
            "bin_start": 0.060746999999999995,
            "bin_end": 0.06482399999999999,
            "count": 0
           },
           {
            "bin_start": 0.06482399999999999,
            "bin_end": 0.06890099999999999,
            "count": 0
           },
           {
            "bin_start": 0.06890099999999999,
            "bin_end": 0.072978,
            "count": 0
           },
           {
            "bin_start": 0.072978,
            "bin_end": 0.077055,
            "count": 0
           },
           {
            "bin_start": 0.077055,
            "bin_end": 0.081132,
            "count": 1
           },
           {
            "bin_start": 0.081132,
            "bin_end": 0.085209,
            "count": 0
           },
           {
            "bin_start": 0.085209,
            "bin_end": 0.089286,
            "count": 0
           },
           {
            "bin_start": 0.089286,
            "bin_end": 0.093363,
            "count": 0
           },
           {
            "bin_start": 0.093363,
            "bin_end": 0.09744,
            "count": 1
           }
          ]
         }
        },
        {
         "name": "radius_se",
         "dtype": "float64",
         "stats": {
          "unique_count": 5,
          "nan_count": 0,
          "min": "0.4956",
          "max": "1.095",
          "histogram": [
           {
            "bin_start": 0.4956,
            "bin_end": 0.5555399999999999,
            "count": 2
           },
           {
            "bin_start": 0.5555399999999999,
            "bin_end": 0.61548,
            "count": 0
           },
           {
            "bin_start": 0.61548,
            "bin_end": 0.6754199999999999,
            "count": 0
           },
           {
            "bin_start": 0.6754199999999999,
            "bin_end": 0.73536,
            "count": 0
           },
           {
            "bin_start": 0.73536,
            "bin_end": 0.7952999999999999,
            "count": 2
           },
           {
            "bin_start": 0.7952999999999999,
            "bin_end": 0.85524,
            "count": 0
           },
           {
            "bin_start": 0.85524,
            "bin_end": 0.9151799999999999,
            "count": 0
           },
           {
            "bin_start": 0.9151799999999999,
            "bin_end": 0.97512,
            "count": 0
           },
           {
            "bin_start": 0.97512,
            "bin_end": 1.0350599999999999,
            "count": 0
           },
           {
            "bin_start": 1.0350599999999999,
            "bin_end": 1.095,
            "count": 1
           }
          ]
         }
        },
        {
         "name": "texture_se",
         "dtype": "float64",
         "stats": {
          "unique_count": 5,
          "nan_count": 0,
          "min": "0.7339",
          "max": "1.156",
          "histogram": [
           {
            "bin_start": 0.7339,
            "bin_end": 0.77611,
            "count": 1
           },
           {
            "bin_start": 0.77611,
            "bin_end": 0.8183199999999999,
            "count": 2
           },
           {
            "bin_start": 0.8183199999999999,
            "bin_end": 0.86053,
            "count": 0
           },
           {
            "bin_start": 0.86053,
            "bin_end": 0.90274,
            "count": 0
           },
           {
            "bin_start": 0.90274,
            "bin_end": 0.94495,
            "count": 1
           },
           {
            "bin_start": 0.94495,
            "bin_end": 0.9871599999999999,
            "count": 0
           },
           {
            "bin_start": 0.9871599999999999,
            "bin_end": 1.02937,
            "count": 0
           },
           {
            "bin_start": 1.02937,
            "bin_end": 1.07158,
            "count": 0
           },
           {
            "bin_start": 1.07158,
            "bin_end": 1.1137899999999998,
            "count": 0
           },
           {
            "bin_start": 1.1137899999999998,
            "bin_end": 1.156,
            "count": 1
           }
          ]
         }
        },
        {
         "name": "perimeter_se",
         "dtype": "float64",
         "stats": {
          "unique_count": 5,
          "nan_count": 0,
          "min": "3.398",
          "max": "8.589",
          "histogram": [
           {
            "bin_start": 3.398,
            "bin_end": 3.9171000000000005,
            "count": 2
           },
           {
            "bin_start": 3.9171000000000005,
            "bin_end": 4.4362,
            "count": 0
           },
           {
            "bin_start": 4.4362,
            "bin_end": 4.9553,
            "count": 1
           },
           {
            "bin_start": 4.9553,
            "bin_end": 5.474400000000001,
            "count": 1
           },
           {
            "bin_start": 5.474400000000001,
            "bin_end": 5.993500000000001,
            "count": 0
           },
           {
            "bin_start": 5.993500000000001,
            "bin_end": 6.512600000000001,
            "count": 0
           },
           {
            "bin_start": 6.512600000000001,
            "bin_end": 7.031700000000001,
            "count": 0
           },
           {
            "bin_start": 7.031700000000001,
            "bin_end": 7.550800000000001,
            "count": 0
           },
           {
            "bin_start": 7.550800000000001,
            "bin_end": 8.0699,
            "count": 0
           },
           {
            "bin_start": 8.0699,
            "bin_end": 8.589,
            "count": 1
           }
          ]
         }
        },
        {
         "name": "area_se",
         "dtype": "float64",
         "stats": {
          "unique_count": 5,
          "nan_count": 0,
          "min": "27.23",
          "max": "153.4",
          "histogram": [
           {
            "bin_start": 27.23,
            "bin_end": 39.847,
            "count": 1
           },
           {
            "bin_start": 39.847,
            "bin_end": 52.464,
            "count": 0
           },
           {
            "bin_start": 52.464,
            "bin_end": 65.081,
            "count": 0
           },
           {
            "bin_start": 65.081,
            "bin_end": 77.69800000000001,
            "count": 1
           },
           {
            "bin_start": 77.69800000000001,
            "bin_end": 90.31500000000001,
            "count": 0
           },
           {
            "bin_start": 90.31500000000001,
            "bin_end": 102.932,
            "count": 2
           },
           {
            "bin_start": 102.932,
            "bin_end": 115.549,
            "count": 0
           },
           {
            "bin_start": 115.549,
            "bin_end": 128.166,
            "count": 0
           },
           {
            "bin_start": 128.166,
            "bin_end": 140.78300000000002,
            "count": 0
           },
           {
            "bin_start": 140.78300000000002,
            "bin_end": 153.4,
            "count": 1
           }
          ]
         }
        },
        {
         "name": "smoothness_se",
         "dtype": "float64",
         "stats": {
          "unique_count": 5,
          "nan_count": 0,
          "min": "0.005225",
          "max": "0.01149",
          "histogram": [
           {
            "bin_start": 0.005225,
            "bin_end": 0.0058515,
            "count": 1
           },
           {
            "bin_start": 0.0058515,
            "bin_end": 0.006477999999999999,
            "count": 2
           },
           {
            "bin_start": 0.006477999999999999,
            "bin_end": 0.0071045,
            "count": 0
           },
           {
            "bin_start": 0.0071045,
            "bin_end": 0.007731,
            "count": 0
           },
           {
            "bin_start": 0.007731,
            "bin_end": 0.0083575,
            "count": 0
           },
           {
            "bin_start": 0.0083575,
            "bin_end": 0.008984,
            "count": 0
           },
           {
            "bin_start": 0.008984,
            "bin_end": 0.009610500000000001,
            "count": 1
           },
           {
            "bin_start": 0.009610500000000001,
            "bin_end": 0.010237,
            "count": 0
           },
           {
            "bin_start": 0.010237,
            "bin_end": 0.010863500000000002,
            "count": 0
           },
           {
            "bin_start": 0.010863500000000002,
            "bin_end": 0.01149,
            "count": 1
           }
          ]
         }
        },
        {
         "name": "compactness_se",
         "dtype": "float64",
         "stats": {
          "unique_count": 5,
          "nan_count": 0,
          "min": "0.01308",
          "max": "0.07458",
          "histogram": [
           {
            "bin_start": 0.01308,
            "bin_end": 0.019229999999999997,
            "count": 1
           },
           {
            "bin_start": 0.019229999999999997,
            "bin_end": 0.02538,
            "count": 1
           },
           {
            "bin_start": 0.02538,
            "bin_end": 0.031529999999999996,
            "count": 0
           },
           {
            "bin_start": 0.031529999999999996,
            "bin_end": 0.03768,
            "count": 0
           },
           {
            "bin_start": 0.03768,
            "bin_end": 0.043829999999999994,
            "count": 1
           },
           {
            "bin_start": 0.043829999999999994,
            "bin_end": 0.04998,
            "count": 1
           },
           {
            "bin_start": 0.04998,
            "bin_end": 0.05612999999999999,
            "count": 0
           },
           {
            "bin_start": 0.05612999999999999,
            "bin_end": 0.062279999999999995,
            "count": 0
           },
           {
            "bin_start": 0.062279999999999995,
            "bin_end": 0.06842999999999999,
            "count": 0
           },
           {
            "bin_start": 0.06842999999999999,
            "bin_end": 0.07458,
            "count": 1
           }
          ]
         }
        },
        {
         "name": "concavity_se",
         "dtype": "float64",
         "stats": {
          "unique_count": 5,
          "nan_count": 0,
          "min": "0.0186",
          "max": "0.05688",
          "histogram": [
           {
            "bin_start": 0.0186,
            "bin_end": 0.022428,
            "count": 1
           },
           {
            "bin_start": 0.022428,
            "bin_end": 0.026255999999999998,
            "count": 0
           },
           {
            "bin_start": 0.026255999999999998,
            "bin_end": 0.030084,
            "count": 0
           },
           {
            "bin_start": 0.030084,
            "bin_end": 0.033912,
            "count": 0
           },
           {
            "bin_start": 0.033912,
            "bin_end": 0.037739999999999996,
            "count": 0
           },
           {
            "bin_start": 0.037739999999999996,
            "bin_end": 0.041568,
            "count": 1
           },
           {
            "bin_start": 0.041568,
            "bin_end": 0.045396,
            "count": 0
           },
           {
            "bin_start": 0.045396,
            "bin_end": 0.049224000000000004,
            "count": 0
           },
           {
            "bin_start": 0.049224000000000004,
            "bin_end": 0.053052,
            "count": 0
           },
           {
            "bin_start": 0.053052,
            "bin_end": 0.05688,
            "count": 3
           }
          ]
         }
        },
        {
         "name": "concave_points_se",
         "dtype": "float64",
         "stats": {
          "unique_count": 5,
          "nan_count": 0,
          "min": "0.0134",
          "max": "0.02058",
          "histogram": [
           {
            "bin_start": 0.0134,
            "bin_end": 0.014118,
            "count": 1
           },
           {
            "bin_start": 0.014118,
            "bin_end": 0.014836,
            "count": 0
           },
           {
            "bin_start": 0.014836,
            "bin_end": 0.015554000000000002,
            "count": 0
           },
           {
            "bin_start": 0.015554000000000002,
            "bin_end": 0.016272000000000002,
            "count": 1
           },
           {
            "bin_start": 0.016272000000000002,
            "bin_end": 0.01699,
            "count": 0
           },
           {
            "bin_start": 0.01699,
            "bin_end": 0.017708,
            "count": 0
           },
           {
            "bin_start": 0.017708,
            "bin_end": 0.018426,
            "count": 0
           },
           {
            "bin_start": 0.018426,
            "bin_end": 0.019144,
            "count": 2
           },
           {
            "bin_start": 0.019144,
            "bin_end": 0.019862,
            "count": 0
           },
           {
            "bin_start": 0.019862,
            "bin_end": 0.02058,
            "count": 1
           }
          ]
         }
        },
        {
         "name": "symmetry_se",
         "dtype": "float64",
         "stats": {
          "unique_count": 5,
          "nan_count": 0,
          "min": "0.01389",
          "max": "0.05963",
          "histogram": [
           {
            "bin_start": 0.01389,
            "bin_end": 0.018464,
            "count": 2
           },
           {
            "bin_start": 0.018464,
            "bin_end": 0.023038,
            "count": 1
           },
           {
            "bin_start": 0.023038,
            "bin_end": 0.027611999999999998,
            "count": 0
           },
           {
            "bin_start": 0.027611999999999998,
            "bin_end": 0.032186,
            "count": 1
           },
           {
            "bin_start": 0.032186,
            "bin_end": 0.03676,
            "count": 0
           },
           {
            "bin_start": 0.03676,
            "bin_end": 0.041333999999999996,
            "count": 0
           },
           {
            "bin_start": 0.041333999999999996,
            "bin_end": 0.045908,
            "count": 0
           },
           {
            "bin_start": 0.045908,
            "bin_end": 0.050482,
            "count": 0
           },
           {
            "bin_start": 0.050482,
            "bin_end": 0.055056,
            "count": 0
           },
           {
            "bin_start": 0.055056,
            "bin_end": 0.05963,
            "count": 1
           }
          ]
         }
        },
        {
         "name": "fractal_dimension_se",
         "dtype": "float64",
         "stats": {
          "unique_count": 5,
          "nan_count": 0,
          "min": "0.003532",
          "max": "0.009208",
          "histogram": [
           {
            "bin_start": 0.003532,
            "bin_end": 0.0040996,
            "count": 1
           },
           {
            "bin_start": 0.0040996,
            "bin_end": 0.0046672,
            "count": 1
           },
           {
            "bin_start": 0.0046672,
            "bin_end": 0.0052347999999999995,
            "count": 1
           },
           {
            "bin_start": 0.0052347999999999995,
            "bin_end": 0.005802399999999999,
            "count": 0
           },
           {
            "bin_start": 0.005802399999999999,
            "bin_end": 0.006369999999999999,
            "count": 1
           },
           {
            "bin_start": 0.006369999999999999,
            "bin_end": 0.0069375999999999995,
            "count": 0
           },
           {
            "bin_start": 0.0069375999999999995,
            "bin_end": 0.0075052,
            "count": 0
           },
           {
            "bin_start": 0.0075052,
            "bin_end": 0.0080728,
            "count": 0
           },
           {
            "bin_start": 0.0080728,
            "bin_end": 0.0086404,
            "count": 0
           },
           {
            "bin_start": 0.0086404,
            "bin_end": 0.009208,
            "count": 1
           }
          ]
         }
        },
        {
         "name": "radius_worst",
         "dtype": "float64",
         "stats": {
          "unique_count": 5,
          "nan_count": 0,
          "min": "14.91",
          "max": "25.38",
          "histogram": [
           {
            "bin_start": 14.91,
            "bin_end": 15.957,
            "count": 1
           },
           {
            "bin_start": 15.957,
            "bin_end": 17.004,
            "count": 0
           },
           {
            "bin_start": 17.004,
            "bin_end": 18.051000000000002,
            "count": 0
           },
           {
            "bin_start": 18.051000000000002,
            "bin_end": 19.098,
            "count": 0
           },
           {
            "bin_start": 19.098,
            "bin_end": 20.145,
            "count": 0
           },
           {
            "bin_start": 20.145,
            "bin_end": 21.192,
            "count": 0
           },
           {
            "bin_start": 21.192,
            "bin_end": 22.239,
            "count": 0
           },
           {
            "bin_start": 22.239,
            "bin_end": 23.286,
            "count": 1
           },
           {
            "bin_start": 23.286,
            "bin_end": 24.333,
            "count": 1
           },
           {
            "bin_start": 24.333,
            "bin_end": 25.38,
            "count": 2
           }
          ]
         }
        },
        {
         "name": "texture_worst",
         "dtype": "float64",
         "stats": {
          "unique_count": 5,
          "nan_count": 0,
          "min": "16.67",
          "max": "26.5",
          "histogram": [
           {
            "bin_start": 16.67,
            "bin_end": 17.653000000000002,
            "count": 2
           },
           {
            "bin_start": 17.653000000000002,
            "bin_end": 18.636000000000003,
            "count": 0
           },
           {
            "bin_start": 18.636000000000003,
            "bin_end": 19.619,
            "count": 0
           },
           {
            "bin_start": 19.619,
            "bin_end": 20.602,
            "count": 0
           },
           {
            "bin_start": 20.602,
            "bin_end": 21.585,
            "count": 0
           },
           {
            "bin_start": 21.585,
            "bin_end": 22.568,
            "count": 0
           },
           {
            "bin_start": 22.568,
            "bin_end": 23.551000000000002,
            "count": 1
           },
           {
            "bin_start": 23.551000000000002,
            "bin_end": 24.534,
            "count": 0
           },
           {
            "bin_start": 24.534,
            "bin_end": 25.517000000000003,
            "count": 0
           },
           {
            "bin_start": 25.517000000000003,
            "bin_end": 26.5,
            "count": 2
           }
          ]
         }
        },
        {
         "name": "perimeter_worst",
         "dtype": "float64",
         "stats": {
          "unique_count": 5,
          "nan_count": 0,
          "min": "98.87",
          "max": "184.6",
          "histogram": [
           {
            "bin_start": 98.87,
            "bin_end": 107.443,
            "count": 1
           },
           {
            "bin_start": 107.443,
            "bin_end": 116.016,
            "count": 0
           },
           {
            "bin_start": 116.016,
            "bin_end": 124.589,
            "count": 0
           },
           {
            "bin_start": 124.589,
            "bin_end": 133.162,
            "count": 0
           },
           {
            "bin_start": 133.162,
            "bin_end": 141.735,
            "count": 0
           },
           {
            "bin_start": 141.735,
            "bin_end": 150.308,
            "count": 0
           },
           {
            "bin_start": 150.308,
            "bin_end": 158.881,
            "count": 3
           },
           {
            "bin_start": 158.881,
            "bin_end": 167.454,
            "count": 0
           },
           {
            "bin_start": 167.454,
            "bin_end": 176.027,
            "count": 0
           },
           {
            "bin_start": 176.027,
            "bin_end": 184.6,
            "count": 1
           }
          ]
         }
        },
        {
         "name": "area_worst",
         "dtype": "float64",
         "stats": {
          "unique_count": 5,
          "nan_count": 0,
          "min": "567.7",
          "max": "2019.0",
          "histogram": [
           {
            "bin_start": 567.7,
            "bin_end": 712.83,
            "count": 1
           },
           {
            "bin_start": 712.83,
            "bin_end": 857.96,
            "count": 0
           },
           {
            "bin_start": 857.96,
            "bin_end": 1003.09,
            "count": 0
           },
           {
            "bin_start": 1003.09,
            "bin_end": 1148.22,
            "count": 0
           },
           {
            "bin_start": 1148.22,
            "bin_end": 1293.35,
            "count": 0
           },
           {
            "bin_start": 1293.35,
            "bin_end": 1438.48,
            "count": 0
           },
           {
            "bin_start": 1438.48,
            "bin_end": 1583.6100000000001,
            "count": 1
           },
           {
            "bin_start": 1583.6100000000001,
            "bin_end": 1728.74,
            "count": 1
           },
           {
            "bin_start": 1728.74,
            "bin_end": 1873.8700000000001,
            "count": 0
           },
           {
            "bin_start": 1873.8700000000001,
            "bin_end": 2019,
            "count": 2
           }
          ]
         }
        },
        {
         "name": "smoothness_worst",
         "dtype": "float64",
         "stats": {
          "unique_count": 5,
          "nan_count": 0,
          "min": "0.1238",
          "max": "0.2098",
          "histogram": [
           {
            "bin_start": 0.1238,
            "bin_end": 0.1324,
            "count": 1
           },
           {
            "bin_start": 0.1324,
            "bin_end": 0.141,
            "count": 1
           },
           {
            "bin_start": 0.141,
            "bin_end": 0.14959999999999998,
            "count": 1
           },
           {
            "bin_start": 0.14959999999999998,
            "bin_end": 0.1582,
            "count": 0
           },
           {
            "bin_start": 0.1582,
            "bin_end": 0.1668,
            "count": 1
           },
           {
            "bin_start": 0.1668,
            "bin_end": 0.1754,
            "count": 0
           },
           {
            "bin_start": 0.1754,
            "bin_end": 0.184,
            "count": 0
           },
           {
            "bin_start": 0.184,
            "bin_end": 0.1926,
            "count": 0
           },
           {
            "bin_start": 0.1926,
            "bin_end": 0.2012,
            "count": 0
           },
           {
            "bin_start": 0.2012,
            "bin_end": 0.2098,
            "count": 1
           }
          ]
         }
        },
        {
         "name": "compactness_worst",
         "dtype": "float64",
         "stats": {
          "unique_count": 5,
          "nan_count": 0,
          "min": "0.1866",
          "max": "0.8663",
          "histogram": [
           {
            "bin_start": 0.1866,
            "bin_end": 0.25456999999999996,
            "count": 2
           },
           {
            "bin_start": 0.25456999999999996,
            "bin_end": 0.32254,
            "count": 0
           },
           {
            "bin_start": 0.32254,
            "bin_end": 0.39051,
            "count": 0
           },
           {
            "bin_start": 0.39051,
            "bin_end": 0.45848,
            "count": 1
           },
           {
            "bin_start": 0.45848,
            "bin_end": 0.52645,
            "count": 0
           },
           {
            "bin_start": 0.52645,
            "bin_end": 0.59442,
            "count": 0
           },
           {
            "bin_start": 0.59442,
            "bin_end": 0.66239,
            "count": 0
           },
           {
            "bin_start": 0.66239,
            "bin_end": 0.73036,
            "count": 1
           },
           {
            "bin_start": 0.73036,
            "bin_end": 0.79833,
            "count": 0
           },
           {
            "bin_start": 0.79833,
            "bin_end": 0.8663,
            "count": 1
           }
          ]
         }
        },
        {
         "name": "concavity_worst",
         "dtype": "float64",
         "stats": {
          "unique_count": 5,
          "nan_count": 0,
          "min": "0.2416",
          "max": "0.7119",
          "histogram": [
           {
            "bin_start": 0.2416,
            "bin_end": 0.28863,
            "count": 1
           },
           {
            "bin_start": 0.28863,
            "bin_end": 0.33566,
            "count": 0
           },
           {
            "bin_start": 0.33566,
            "bin_end": 0.38269,
            "count": 0
           },
           {
            "bin_start": 0.38269,
            "bin_end": 0.42972,
            "count": 1
           },
           {
            "bin_start": 0.42972,
            "bin_end": 0.47675,
            "count": 1
           },
           {
            "bin_start": 0.47675,
            "bin_end": 0.52378,
            "count": 0
           },
           {
            "bin_start": 0.52378,
            "bin_end": 0.5708099999999999,
            "count": 0
           },
           {
            "bin_start": 0.5708099999999999,
            "bin_end": 0.61784,
            "count": 0
           },
           {
            "bin_start": 0.61784,
            "bin_end": 0.66487,
            "count": 0
           },
           {
            "bin_start": 0.66487,
            "bin_end": 0.7119,
            "count": 2
           }
          ]
         }
        },
        {
         "name": "concave_points_worst",
         "dtype": "float64",
         "stats": {
          "unique_count": 5,
          "nan_count": 0,
          "min": "0.1625",
          "max": "0.2654",
          "histogram": [
           {
            "bin_start": 0.1625,
            "bin_end": 0.17279,
            "count": 1
           },
           {
            "bin_start": 0.17279,
            "bin_end": 0.18308000000000002,
            "count": 0
           },
           {
            "bin_start": 0.18308000000000002,
            "bin_end": 0.19337000000000001,
            "count": 1
           },
           {
            "bin_start": 0.19337000000000001,
            "bin_end": 0.20366,
            "count": 0
           },
           {
            "bin_start": 0.20366,
            "bin_end": 0.21395000000000003,
            "count": 0
           },
           {
            "bin_start": 0.21395000000000003,
            "bin_end": 0.22424000000000002,
            "count": 0
           },
           {
            "bin_start": 0.22424000000000002,
            "bin_end": 0.23453000000000002,
            "count": 0
           },
           {
            "bin_start": 0.23453000000000002,
            "bin_end": 0.24482000000000004,
            "count": 1
           },
           {
            "bin_start": 0.24482000000000004,
            "bin_end": 0.25511000000000006,
            "count": 0
           },
           {
            "bin_start": 0.25511000000000006,
            "bin_end": 0.2654,
            "count": 2
           }
          ]
         }
        },
        {
         "name": "symmetry_worst",
         "dtype": "float64",
         "stats": {
          "unique_count": 5,
          "nan_count": 0,
          "min": "0.2364",
          "max": "0.6638",
          "histogram": [
           {
            "bin_start": 0.2364,
            "bin_end": 0.27914,
            "count": 2
           },
           {
            "bin_start": 0.27914,
            "bin_end": 0.32188,
            "count": 0
           },
           {
            "bin_start": 0.32188,
            "bin_end": 0.36461999999999994,
            "count": 1
           },
           {
            "bin_start": 0.36461999999999994,
            "bin_end": 0.40735999999999994,
            "count": 0
           },
           {
            "bin_start": 0.40735999999999994,
            "bin_end": 0.45009999999999994,
            "count": 0
           },
           {
            "bin_start": 0.45009999999999994,
            "bin_end": 0.49283999999999994,
            "count": 1
           },
           {
            "bin_start": 0.49283999999999994,
            "bin_end": 0.53558,
            "count": 0
           },
           {
            "bin_start": 0.53558,
            "bin_end": 0.57832,
            "count": 0
           },
           {
            "bin_start": 0.57832,
            "bin_end": 0.62106,
            "count": 0
           },
           {
            "bin_start": 0.62106,
            "bin_end": 0.6638,
            "count": 1
           }
          ]
         }
        },
        {
         "name": "fractal_dimension_worst",
         "dtype": "float64",
         "stats": {
          "unique_count": 5,
          "nan_count": 0,
          "min": "0.07678",
          "max": "0.173",
          "histogram": [
           {
            "bin_start": 0.07678,
            "bin_end": 0.086402,
            "count": 1
           },
           {
            "bin_start": 0.086402,
            "bin_end": 0.096024,
            "count": 2
           },
           {
            "bin_start": 0.096024,
            "bin_end": 0.10564599999999999,
            "count": 0
           },
           {
            "bin_start": 0.10564599999999999,
            "bin_end": 0.115268,
            "count": 0
           },
           {
            "bin_start": 0.115268,
            "bin_end": 0.12489,
            "count": 1
           },
           {
            "bin_start": 0.12489,
            "bin_end": 0.134512,
            "count": 0
           },
           {
            "bin_start": 0.134512,
            "bin_end": 0.14413399999999998,
            "count": 0
           },
           {
            "bin_start": 0.14413399999999998,
            "bin_end": 0.153756,
            "count": 0
           },
           {
            "bin_start": 0.153756,
            "bin_end": 0.16337799999999997,
            "count": 0
           },
           {
            "bin_start": 0.16337799999999997,
            "bin_end": 0.173,
            "count": 1
           }
          ]
         }
        },
        {
         "name": "_deepnote_index_column",
         "dtype": "int64"
        }
       ],
       "rows": [
        {
         "id": 842302,
         "diagnosis": 1,
         "radius_mean": 17.99,
         "texture_mean": 10.38,
         "perimeter_mean": 122.8,
         "area_mean": 1001,
         "smoothness_mean": 0.1184,
         "compactness_mean": 0.2776,
         "concavity_mean": 0.3001,
         "concave_points_mean": 0.1471,
         "symmetry_mean": 0.2419,
         "fractal_dimension_mean": 0.07871,
         "radius_se": 1.095,
         "texture_se": 0.9053,
         "perimeter_se": 8.589,
         "area_se": 153.4,
         "smoothness_se": 0.006399,
         "compactness_se": 0.04904,
         "concavity_se": 0.05373,
         "concave_points_se": 0.01587,
         "symmetry_se": 0.03003,
         "fractal_dimension_se": 0.006193,
         "radius_worst": 25.38,
         "texture_worst": 17.33,
         "perimeter_worst": 184.6,
         "area_worst": 2019,
         "smoothness_worst": 0.1622,
         "compactness_worst": 0.6656,
         "concavity_worst": 0.7119,
         "concave_points_worst": 0.2654,
         "symmetry_worst": 0.4601,
         "fractal_dimension_worst": 0.1189,
         "_deepnote_index_column": 0
        },
        {
         "id": 842517,
         "diagnosis": 1,
         "radius_mean": 20.57,
         "texture_mean": 17.77,
         "perimeter_mean": 132.9,
         "area_mean": 1326,
         "smoothness_mean": 0.08474,
         "compactness_mean": 0.07864,
         "concavity_mean": 0.0869,
         "concave_points_mean": 0.07017,
         "symmetry_mean": 0.1812,
         "fractal_dimension_mean": 0.05667,
         "radius_se": 0.5435,
         "texture_se": 0.7339,
         "perimeter_se": 3.398,
         "area_se": 74.08,
         "smoothness_se": 0.005225,
         "compactness_se": 0.01308,
         "concavity_se": 0.0186,
         "concave_points_se": 0.0134,
         "symmetry_se": 0.01389,
         "fractal_dimension_se": 0.003532,
         "radius_worst": 24.99,
         "texture_worst": 23.41,
         "perimeter_worst": 158.8,
         "area_worst": 1956,
         "smoothness_worst": 0.1238,
         "compactness_worst": 0.1866,
         "concavity_worst": 0.2416,
         "concave_points_worst": 0.186,
         "symmetry_worst": 0.275,
         "fractal_dimension_worst": 0.08902,
         "_deepnote_index_column": 1
        },
        {
         "id": 84300903,
         "diagnosis": 1,
         "radius_mean": 19.69,
         "texture_mean": 21.25,
         "perimeter_mean": 130,
         "area_mean": 1203,
         "smoothness_mean": 0.1096,
         "compactness_mean": 0.1599,
         "concavity_mean": 0.1974,
         "concave_points_mean": 0.1279,
         "symmetry_mean": 0.2069,
         "fractal_dimension_mean": 0.05999,
         "radius_se": 0.7456,
         "texture_se": 0.7869,
         "perimeter_se": 4.585,
         "area_se": 94.03,
         "smoothness_se": 0.00615,
         "compactness_se": 0.04006,
         "concavity_se": 0.03832,
         "concave_points_se": 0.02058,
         "symmetry_se": 0.0225,
         "fractal_dimension_se": 0.004571,
         "radius_worst": 23.57,
         "texture_worst": 25.53,
         "perimeter_worst": 152.5,
         "area_worst": 1709,
         "smoothness_worst": 0.1444,
         "compactness_worst": 0.4245,
         "concavity_worst": 0.4504,
         "concave_points_worst": 0.243,
         "symmetry_worst": 0.3613,
         "fractal_dimension_worst": 0.08758,
         "_deepnote_index_column": 2
        },
        {
         "id": 84348301,
         "diagnosis": 1,
         "radius_mean": 11.42,
         "texture_mean": 20.38,
         "perimeter_mean": 77.58,
         "area_mean": 386.1,
         "smoothness_mean": 0.1425,
         "compactness_mean": 0.2839,
         "concavity_mean": 0.2414,
         "concave_points_mean": 0.1052,
         "symmetry_mean": 0.2597,
         "fractal_dimension_mean": 0.09744,
         "radius_se": 0.4956,
         "texture_se": 1.156,
         "perimeter_se": 3.445,
         "area_se": 27.23,
         "smoothness_se": 0.00911,
         "compactness_se": 0.07458,
         "concavity_se": 0.05661,
         "concave_points_se": 0.01867,
         "symmetry_se": 0.05963,
         "fractal_dimension_se": 0.009208,
         "radius_worst": 14.91,
         "texture_worst": 26.5,
         "perimeter_worst": 98.87,
         "area_worst": 567.7,
         "smoothness_worst": 0.2098,
         "compactness_worst": 0.8663,
         "concavity_worst": 0.6869,
         "concave_points_worst": 0.2575,
         "symmetry_worst": 0.6638,
         "fractal_dimension_worst": 0.173,
         "_deepnote_index_column": 3
        },
        {
         "id": 84358402,
         "diagnosis": 1,
         "radius_mean": 20.29,
         "texture_mean": 14.34,
         "perimeter_mean": 135.1,
         "area_mean": 1297,
         "smoothness_mean": 0.1003,
         "compactness_mean": 0.1328,
         "concavity_mean": 0.198,
         "concave_points_mean": 0.1043,
         "symmetry_mean": 0.1809,
         "fractal_dimension_mean": 0.05883,
         "radius_se": 0.7572,
         "texture_se": 0.7813,
         "perimeter_se": 5.438,
         "area_se": 94.44,
         "smoothness_se": 0.01149,
         "compactness_se": 0.02461,
         "concavity_se": 0.05688,
         "concave_points_se": 0.01885,
         "symmetry_se": 0.01756,
         "fractal_dimension_se": 0.005115,
         "radius_worst": 22.54,
         "texture_worst": 16.67,
         "perimeter_worst": 152.2,
         "area_worst": 1575,
         "smoothness_worst": 0.1374,
         "compactness_worst": 0.205,
         "concavity_worst": 0.4,
         "concave_points_worst": 0.1625,
         "symmetry_worst": 0.2364,
         "fractal_dimension_worst": 0.07678,
         "_deepnote_index_column": 4
        }
       ]
      },
      "text/plain": "         id  diagnosis  radius_mean  texture_mean  perimeter_mean  area_mean  \\\n0    842302          1        17.99         10.38          122.80     1001.0   \n1    842517          1        20.57         17.77          132.90     1326.0   \n2  84300903          1        19.69         21.25          130.00     1203.0   \n3  84348301          1        11.42         20.38           77.58      386.1   \n4  84358402          1        20.29         14.34          135.10     1297.0   \n\n   smoothness_mean  compactness_mean  concavity_mean  concave_points_mean  \\\n0          0.11840           0.27760          0.3001              0.14710   \n1          0.08474           0.07864          0.0869              0.07017   \n2          0.10960           0.15990          0.1974              0.12790   \n3          0.14250           0.28390          0.2414              0.10520   \n4          0.10030           0.13280          0.1980              0.10430   \n\n   ...  radius_worst  texture_worst  perimeter_worst  area_worst  \\\n0  ...         25.38          17.33           184.60      2019.0   \n1  ...         24.99          23.41           158.80      1956.0   \n2  ...         23.57          25.53           152.50      1709.0   \n3  ...         14.91          26.50            98.87       567.7   \n4  ...         22.54          16.67           152.20      1575.0   \n\n   smoothness_worst  compactness_worst  concavity_worst  concave_points_worst  \\\n0            0.1622             0.6656           0.7119                0.2654   \n1            0.1238             0.1866           0.2416                0.1860   \n2            0.1444             0.4245           0.4504                0.2430   \n3            0.2098             0.8663           0.6869                0.2575   \n4            0.1374             0.2050           0.4000                0.1625   \n\n   symmetry_worst  fractal_dimension_worst  \n0          0.4601                  0.11890  \n1          0.2750                  0.08902  \n2          0.3613                  0.08758  \n3          0.6638                  0.17300  \n4          0.2364                  0.07678  \n\n[5 rows x 32 columns]",
      "text/html": "<div>\n<style scoped>\n    .dataframe tbody tr th:only-of-type {\n        vertical-align: middle;\n    }\n\n    .dataframe tbody tr th {\n        vertical-align: top;\n    }\n\n    .dataframe thead th {\n        text-align: right;\n    }\n</style>\n<table border=\"1\" class=\"dataframe\">\n  <thead>\n    <tr style=\"text-align: right;\">\n      <th></th>\n      <th>id</th>\n      <th>diagnosis</th>\n      <th>radius_mean</th>\n      <th>texture_mean</th>\n      <th>perimeter_mean</th>\n      <th>area_mean</th>\n      <th>smoothness_mean</th>\n      <th>compactness_mean</th>\n      <th>concavity_mean</th>\n      <th>concave_points_mean</th>\n      <th>...</th>\n      <th>radius_worst</th>\n      <th>texture_worst</th>\n      <th>perimeter_worst</th>\n      <th>area_worst</th>\n      <th>smoothness_worst</th>\n      <th>compactness_worst</th>\n      <th>concavity_worst</th>\n      <th>concave_points_worst</th>\n      <th>symmetry_worst</th>\n      <th>fractal_dimension_worst</th>\n    </tr>\n  </thead>\n  <tbody>\n    <tr>\n      <th>0</th>\n      <td>842302</td>\n      <td>1</td>\n      <td>17.99</td>\n      <td>10.38</td>\n      <td>122.80</td>\n      <td>1001.0</td>\n      <td>0.11840</td>\n      <td>0.27760</td>\n      <td>0.3001</td>\n      <td>0.14710</td>\n      <td>...</td>\n      <td>25.38</td>\n      <td>17.33</td>\n      <td>184.60</td>\n      <td>2019.0</td>\n      <td>0.1622</td>\n      <td>0.6656</td>\n      <td>0.7119</td>\n      <td>0.2654</td>\n      <td>0.4601</td>\n      <td>0.11890</td>\n    </tr>\n    <tr>\n      <th>1</th>\n      <td>842517</td>\n      <td>1</td>\n      <td>20.57</td>\n      <td>17.77</td>\n      <td>132.90</td>\n      <td>1326.0</td>\n      <td>0.08474</td>\n      <td>0.07864</td>\n      <td>0.0869</td>\n      <td>0.07017</td>\n      <td>...</td>\n      <td>24.99</td>\n      <td>23.41</td>\n      <td>158.80</td>\n      <td>1956.0</td>\n      <td>0.1238</td>\n      <td>0.1866</td>\n      <td>0.2416</td>\n      <td>0.1860</td>\n      <td>0.2750</td>\n      <td>0.08902</td>\n    </tr>\n    <tr>\n      <th>2</th>\n      <td>84300903</td>\n      <td>1</td>\n      <td>19.69</td>\n      <td>21.25</td>\n      <td>130.00</td>\n      <td>1203.0</td>\n      <td>0.10960</td>\n      <td>0.15990</td>\n      <td>0.1974</td>\n      <td>0.12790</td>\n      <td>...</td>\n      <td>23.57</td>\n      <td>25.53</td>\n      <td>152.50</td>\n      <td>1709.0</td>\n      <td>0.1444</td>\n      <td>0.4245</td>\n      <td>0.4504</td>\n      <td>0.2430</td>\n      <td>0.3613</td>\n      <td>0.08758</td>\n    </tr>\n    <tr>\n      <th>3</th>\n      <td>84348301</td>\n      <td>1</td>\n      <td>11.42</td>\n      <td>20.38</td>\n      <td>77.58</td>\n      <td>386.1</td>\n      <td>0.14250</td>\n      <td>0.28390</td>\n      <td>0.2414</td>\n      <td>0.10520</td>\n      <td>...</td>\n      <td>14.91</td>\n      <td>26.50</td>\n      <td>98.87</td>\n      <td>567.7</td>\n      <td>0.2098</td>\n      <td>0.8663</td>\n      <td>0.6869</td>\n      <td>0.2575</td>\n      <td>0.6638</td>\n      <td>0.17300</td>\n    </tr>\n    <tr>\n      <th>4</th>\n      <td>84358402</td>\n      <td>1</td>\n      <td>20.29</td>\n      <td>14.34</td>\n      <td>135.10</td>\n      <td>1297.0</td>\n      <td>0.10030</td>\n      <td>0.13280</td>\n      <td>0.1980</td>\n      <td>0.10430</td>\n      <td>...</td>\n      <td>22.54</td>\n      <td>16.67</td>\n      <td>152.20</td>\n      <td>1575.0</td>\n      <td>0.1374</td>\n      <td>0.2050</td>\n      <td>0.4000</td>\n      <td>0.1625</td>\n      <td>0.2364</td>\n      <td>0.07678</td>\n    </tr>\n  </tbody>\n</table>\n<p>5 rows × 32 columns</p>\n</div>"
     },
     "metadata": {}
    }
   ]
  },
  {
   "cell_type": "code",
   "metadata": {
    "cell_id": "ee9adfe9ae6540548769e62cdf6bcf8b",
    "tags": [],
    "deepnote_to_be_reexecuted": false,
    "source_hash": "94414331",
    "execution_start": 1656791250633,
    "execution_millis": 197,
    "deepnote_cell_type": "code",
    "deepnote_cell_height": 609.15625
   },
   "source": "df.iloc[:,1:12].corr()",
   "execution_count": null,
   "outputs": [
    {
     "output_type": "execute_result",
     "execution_count": 12,
     "data": {
      "application/vnd.deepnote.dataframe.v3+json": {
       "column_count": 11,
       "row_count": 11,
       "columns": [
        {
         "name": "diagnosis",
         "dtype": "float64",
         "stats": {
          "unique_count": 11,
          "nan_count": 0,
          "min": "-0.012837602698431882",
          "max": "1.0",
          "histogram": [
           {
            "bin_start": -0.012837602698431882,
            "bin_end": 0.08844615757141129,
            "count": 1
           },
           {
            "bin_start": 0.08844615757141129,
            "bin_end": 0.18972991784125448,
            "count": 0
           },
           {
            "bin_start": 0.18972991784125448,
            "bin_end": 0.29101367811109763,
            "count": 0
           },
           {
            "bin_start": 0.29101367811109763,
            "bin_end": 0.39229743838094083,
            "count": 2
           },
           {
            "bin_start": 0.39229743838094083,
            "bin_end": 0.49358119865078404,
            "count": 1
           },
           {
            "bin_start": 0.49358119865078404,
            "bin_end": 0.5948649589206271,
            "count": 0
           },
           {
            "bin_start": 0.5948649589206271,
            "bin_end": 0.6961487191904703,
            "count": 1
           },
           {
            "bin_start": 0.6961487191904703,
            "bin_end": 0.7974324794603135,
            "count": 5
           },
           {
            "bin_start": 0.7974324794603135,
            "bin_end": 0.8987162397301567,
            "count": 0
           },
           {
            "bin_start": 0.8987162397301567,
            "bin_end": 1,
            "count": 1
           }
          ]
         }
        },
        {
         "name": "radius_mean",
         "dtype": "float64",
         "stats": {
          "unique_count": 11,
          "nan_count": 0,
          "min": "-0.3116308263092899",
          "max": "1.0",
          "histogram": [
           {
            "bin_start": -0.3116308263092899,
            "bin_end": -0.1804677436783609,
            "count": 1
           },
           {
            "bin_start": -0.1804677436783609,
            "bin_end": -0.04930466104743192,
            "count": 0
           },
           {
            "bin_start": -0.04930466104743192,
            "bin_end": 0.08185842158349704,
            "count": 0
           },
           {
            "bin_start": 0.08185842158349704,
            "bin_end": 0.21302150421442606,
            "count": 2
           },
           {
            "bin_start": 0.21302150421442606,
            "bin_end": 0.3441845868453551,
            "count": 1
           },
           {
            "bin_start": 0.3441845868453551,
            "bin_end": 0.475347669476284,
            "count": 0
           },
           {
            "bin_start": 0.475347669476284,
            "bin_end": 0.6065107521072131,
            "count": 1
           },
           {
            "bin_start": 0.6065107521072131,
            "bin_end": 0.737673834738142,
            "count": 2
           },
           {
            "bin_start": 0.737673834738142,
            "bin_end": 0.8688369173690709,
            "count": 1
           },
           {
            "bin_start": 0.8688369173690709,
            "bin_end": 1,
            "count": 3
           }
          ]
         }
        },
        {
         "name": "texture_mean",
         "dtype": "float64",
         "stats": {
          "unique_count": 11,
          "nan_count": 0,
          "min": "-0.07643718344813423",
          "max": "1.0",
          "histogram": [
           {
            "bin_start": -0.07643718344813423,
            "bin_end": 0.031206534896679197,
            "count": 2
           },
           {
            "bin_start": 0.031206534896679197,
            "bin_end": 0.13885025324149264,
            "count": 1
           },
           {
            "bin_start": 0.13885025324149264,
            "bin_end": 0.24649397158630604,
            "count": 1
           },
           {
            "bin_start": 0.24649397158630604,
            "bin_end": 0.3541376899311195,
            "count": 5
           },
           {
            "bin_start": 0.3541376899311195,
            "bin_end": 0.46178140827593295,
            "count": 1
           },
           {
            "bin_start": 0.46178140827593295,
            "bin_end": 0.5694251266207463,
            "count": 0
           },
           {
            "bin_start": 0.5694251266207463,
            "bin_end": 0.6770688449655597,
            "count": 0
           },
           {
            "bin_start": 0.6770688449655597,
            "bin_end": 0.7847125633103732,
            "count": 0
           },
           {
            "bin_start": 0.7847125633103732,
            "bin_end": 0.8923562816551867,
            "count": 0
           },
           {
            "bin_start": 0.8923562816551867,
            "bin_end": 1,
            "count": 1
           }
          ]
         }
        },
        {
         "name": "perimeter_mean",
         "dtype": "float64",
         "stats": {
          "unique_count": 11,
          "nan_count": 0,
          "min": "-0.26147690806633256",
          "max": "1.0",
          "histogram": [
           {
            "bin_start": -0.26147690806633256,
            "bin_end": -0.1353292172596993,
            "count": 1
           },
           {
            "bin_start": -0.1353292172596993,
            "bin_end": -0.009181526453066025,
            "count": 0
           },
           {
            "bin_start": -0.009181526453066025,
            "bin_end": 0.11696616435356727,
            "count": 0
           },
           {
            "bin_start": 0.11696616435356727,
            "bin_end": 0.2431138551602005,
            "count": 2
           },
           {
            "bin_start": 0.2431138551602005,
            "bin_end": 0.36926154596683375,
            "count": 1
           },
           {
            "bin_start": 0.36926154596683375,
            "bin_end": 0.4954092367734671,
            "count": 0
           },
           {
            "bin_start": 0.4954092367734671,
            "bin_end": 0.6215569275801003,
            "count": 1
           },
           {
            "bin_start": 0.6215569275801003,
            "bin_end": 0.7477046183867335,
            "count": 2
           },
           {
            "bin_start": 0.7477046183867335,
            "bin_end": 0.8738523091933668,
            "count": 1
           },
           {
            "bin_start": 0.8738523091933668,
            "bin_end": 1,
            "count": 3
           }
          ]
         }
        },
        {
         "name": "area_mean",
         "dtype": "float64",
         "stats": {
          "unique_count": 11,
          "nan_count": 0,
          "min": "-0.2831098116914261",
          "max": "1.0",
          "histogram": [
           {
            "bin_start": -0.2831098116914261,
            "bin_end": -0.15479883052228352,
            "count": 1
           },
           {
            "bin_start": -0.15479883052228352,
            "bin_end": -0.026487849353140913,
            "count": 0
           },
           {
            "bin_start": -0.026487849353140913,
            "bin_end": 0.10182313181600167,
            "count": 0
           },
           {
            "bin_start": 0.10182313181600167,
            "bin_end": 0.2301341129851443,
            "count": 2
           },
           {
            "bin_start": 0.2301341129851443,
            "bin_end": 0.35844509415428694,
            "count": 1
           },
           {
            "bin_start": 0.35844509415428694,
            "bin_end": 0.48675607532342946,
            "count": 0
           },
           {
            "bin_start": 0.48675607532342946,
            "bin_end": 0.6150670564925721,
            "count": 1
           },
           {
            "bin_start": 0.6150670564925721,
            "bin_end": 0.7433780376617147,
            "count": 2
           },
           {
            "bin_start": 0.7433780376617147,
            "bin_end": 0.8716890188308573,
            "count": 1
           },
           {
            "bin_start": 0.8716890188308573,
            "bin_end": 1,
            "count": 3
           }
          ]
         }
        },
        {
         "name": "smoothness_mean",
         "dtype": "float64",
         "stats": {
          "unique_count": 11,
          "nan_count": 0,
          "min": "-0.023388515998423325",
          "max": "1.0",
          "histogram": [
           {
            "bin_start": -0.023388515998423325,
            "bin_end": 0.078950335601419,
            "count": 1
           },
           {
            "bin_start": 0.078950335601419,
            "bin_end": 0.18128918720126133,
            "count": 2
           },
           {
            "bin_start": 0.18128918720126133,
            "bin_end": 0.2836280388011036,
            "count": 1
           },
           {
            "bin_start": 0.2836280388011036,
            "bin_end": 0.38596689040094595,
            "count": 1
           },
           {
            "bin_start": 0.38596689040094595,
            "bin_end": 0.4883057420007883,
            "count": 0
           },
           {
            "bin_start": 0.4883057420007883,
            "bin_end": 0.5906445936006306,
            "count": 4
           },
           {
            "bin_start": 0.5906445936006306,
            "bin_end": 0.692983445200473,
            "count": 1
           },
           {
            "bin_start": 0.692983445200473,
            "bin_end": 0.7953222968003153,
            "count": 0
           },
           {
            "bin_start": 0.7953222968003153,
            "bin_end": 0.8976611484001576,
            "count": 0
           },
           {
            "bin_start": 0.8976611484001576,
            "bin_end": 1,
            "count": 1
           }
          ]
         }
        },
        {
         "name": "compactness_mean",
         "dtype": "float64",
         "stats": {
          "unique_count": 11,
          "nan_count": 0,
          "min": "0.236702222074372",
          "max": "1.0",
          "histogram": [
           {
            "bin_start": 0.236702222074372,
            "bin_end": 0.3130319998669348,
            "count": 1
           },
           {
            "bin_start": 0.3130319998669348,
            "bin_end": 0.38936177765949764,
            "count": 0
           },
           {
            "bin_start": 0.38936177765949764,
            "bin_end": 0.4656915554520604,
            "count": 0
           },
           {
            "bin_start": 0.4656915554520604,
            "bin_end": 0.5420213332446232,
            "count": 2
           },
           {
            "bin_start": 0.5420213332446232,
            "bin_end": 0.618351111037186,
            "count": 4
           },
           {
            "bin_start": 0.618351111037186,
            "bin_end": 0.6946808888297489,
            "count": 1
           },
           {
            "bin_start": 0.6946808888297489,
            "bin_end": 0.7710106666223117,
            "count": 0
           },
           {
            "bin_start": 0.7710106666223117,
            "bin_end": 0.8473404444148744,
            "count": 1
           },
           {
            "bin_start": 0.8473404444148744,
            "bin_end": 0.9236702222074372,
            "count": 1
           },
           {
            "bin_start": 0.9236702222074372,
            "bin_end": 1,
            "count": 1
           }
          ]
         }
        },
        {
         "name": "concavity_mean",
         "dtype": "float64",
         "stats": {
          "unique_count": 11,
          "nan_count": 0,
          "min": "0.30241782794389144",
          "max": "1.0",
          "histogram": [
           {
            "bin_start": 0.30241782794389144,
            "bin_end": 0.3721760451495023,
            "count": 2
           },
           {
            "bin_start": 0.3721760451495023,
            "bin_end": 0.4419342623551131,
            "count": 0
           },
           {
            "bin_start": 0.4419342623551131,
            "bin_end": 0.5116924795607241,
            "count": 1
           },
           {
            "bin_start": 0.5116924795607241,
            "bin_end": 0.5814506967663349,
            "count": 1
           },
           {
            "bin_start": 0.5814506967663349,
            "bin_end": 0.6512089139719457,
            "count": 0
           },
           {
            "bin_start": 0.6512089139719457,
            "bin_end": 0.7209671311775565,
            "count": 4
           },
           {
            "bin_start": 0.7209671311775565,
            "bin_end": 0.7907253483831674,
            "count": 0
           },
           {
            "bin_start": 0.7907253483831674,
            "bin_end": 0.8604835655887784,
            "count": 0
           },
           {
            "bin_start": 0.8604835655887784,
            "bin_end": 0.9302417827943892,
            "count": 2
           },
           {
            "bin_start": 0.9302417827943892,
            "bin_end": 1,
            "count": 1
           }
          ]
         }
        },
        {
         "name": "concave_points_mean",
         "dtype": "float64",
         "stats": {
          "unique_count": 11,
          "nan_count": 0,
          "min": "0.1669173832269923",
          "max": "1.0",
          "histogram": [
           {
            "bin_start": 0.1669173832269923,
            "bin_end": 0.25022564490429305,
            "count": 1
           },
           {
            "bin_start": 0.25022564490429305,
            "bin_end": 0.3335339065815938,
            "count": 1
           },
           {
            "bin_start": 0.3335339065815938,
            "bin_end": 0.4168421682588946,
            "count": 0
           },
           {
            "bin_start": 0.4168421682588946,
            "bin_end": 0.5001504299361954,
            "count": 1
           },
           {
            "bin_start": 0.5001504299361954,
            "bin_end": 0.5834586916134961,
            "count": 1
           },
           {
            "bin_start": 0.5834586916134961,
            "bin_end": 0.6667669532907969,
            "count": 0
           },
           {
            "bin_start": 0.6667669532907969,
            "bin_end": 0.7500752149680976,
            "count": 0
           },
           {
            "bin_start": 0.7500752149680976,
            "bin_end": 0.8333834766453985,
            "count": 4
           },
           {
            "bin_start": 0.8333834766453985,
            "bin_end": 0.9166917383226991,
            "count": 1
           },
           {
            "bin_start": 0.9166917383226991,
            "bin_end": 1,
            "count": 2
           }
          ]
         }
        },
        {
         "name": "symmetry_mean",
         "dtype": "float64",
         "stats": {
          "unique_count": 11,
          "nan_count": 0,
          "min": "0.07140098048331764",
          "max": "1.0",
          "histogram": [
           {
            "bin_start": 0.07140098048331764,
            "bin_end": 0.16426088243498588,
            "count": 3
           },
           {
            "bin_start": 0.16426088243498588,
            "bin_end": 0.2571207843866541,
            "count": 1
           },
           {
            "bin_start": 0.2571207843866541,
            "bin_end": 0.34998068633832236,
            "count": 1
           },
           {
            "bin_start": 0.34998068633832236,
            "bin_end": 0.4428405882899906,
            "count": 0
           },
           {
            "bin_start": 0.4428405882899906,
            "bin_end": 0.5357004902416589,
            "count": 3
           },
           {
            "bin_start": 0.5357004902416589,
            "bin_end": 0.628560392193327,
            "count": 2
           },
           {
            "bin_start": 0.628560392193327,
            "bin_end": 0.7214202941449953,
            "count": 0
           },
           {
            "bin_start": 0.7214202941449953,
            "bin_end": 0.8142801960966636,
            "count": 0
           },
           {
            "bin_start": 0.8142801960966636,
            "bin_end": 0.9071400980483318,
            "count": 0
           },
           {
            "bin_start": 0.9071400980483318,
            "bin_end": 1,
            "count": 1
           }
          ]
         }
        },
        {
         "name": "fractal_dimension_mean",
         "dtype": "float64",
         "stats": {
          "unique_count": 11,
          "nan_count": 0,
          "min": "-0.3116308263092899",
          "max": "1.0",
          "histogram": [
           {
            "bin_start": -0.3116308263092899,
            "bin_end": -0.1804677436783609,
            "count": 3
           },
           {
            "bin_start": -0.1804677436783609,
            "bin_end": -0.04930466104743192,
            "count": 1
           },
           {
            "bin_start": -0.04930466104743192,
            "bin_end": 0.08185842158349704,
            "count": 1
           },
           {
            "bin_start": 0.08185842158349704,
            "bin_end": 0.21302150421442606,
            "count": 1
           },
           {
            "bin_start": 0.21302150421442606,
            "bin_end": 0.3441845868453551,
            "count": 1
           },
           {
            "bin_start": 0.3441845868453551,
            "bin_end": 0.475347669476284,
            "count": 0
           },
           {
            "bin_start": 0.475347669476284,
            "bin_end": 0.6065107521072131,
            "count": 3
           },
           {
            "bin_start": 0.6065107521072131,
            "bin_end": 0.737673834738142,
            "count": 0
           },
           {
            "bin_start": 0.737673834738142,
            "bin_end": 0.8688369173690709,
            "count": 0
           },
           {
            "bin_start": 0.8688369173690709,
            "bin_end": 1,
            "count": 1
           }
          ]
         }
        },
        {
         "name": "_deepnote_index_column",
         "dtype": "object"
        }
       ],
       "rows": [
        {
         "diagnosis": 1,
         "radius_mean": 0.7300285113754563,
         "texture_mean": 0.41518529984520475,
         "perimeter_mean": 0.7426355297258334,
         "area_mean": 0.7089838365853902,
         "smoothness_mean": 0.35855996508593324,
         "compactness_mean": 0.5965336775082527,
         "concavity_mean": 0.6963597071719052,
         "concave_points_mean": 0.7766138400204371,
         "symmetry_mean": 0.33049855426254676,
         "fractal_dimension_mean": -0.012837602698431882,
         "_deepnote_index_column": "diagnosis"
        },
        {
         "diagnosis": 0.7300285113754563,
         "radius_mean": 1,
         "texture_mean": 0.32378189092773324,
         "perimeter_mean": 0.9978552814938109,
         "area_mean": 0.9873571700566127,
         "smoothness_mean": 0.17058118749299467,
         "compactness_mean": 0.5061235775263634,
         "concavity_mean": 0.6767635503908104,
         "concave_points_mean": 0.8225285223871786,
         "symmetry_mean": 0.14774124199260202,
         "fractal_dimension_mean": -0.3116308263092899,
         "_deepnote_index_column": "radius_mean"
        },
        {
         "diagnosis": 0.41518529984520475,
         "radius_mean": 0.32378189092773324,
         "texture_mean": 1,
         "perimeter_mean": 0.3295330586865707,
         "area_mean": 0.32108569608020704,
         "smoothness_mean": -0.023388515998423325,
         "compactness_mean": 0.236702222074372,
         "concavity_mean": 0.30241782794389144,
         "concave_points_mean": 0.29346405131394276,
         "symmetry_mean": 0.07140098048331764,
         "fractal_dimension_mean": -0.07643718344813423,
         "_deepnote_index_column": "texture_mean"
        },
        {
         "diagnosis": 0.7426355297258334,
         "radius_mean": 0.9978552814938109,
         "texture_mean": 0.3295330586865707,
         "perimeter_mean": 1,
         "area_mean": 0.9865068039913907,
         "smoothness_mean": 0.2072781636910072,
         "compactness_mean": 0.556936210879562,
         "concavity_mean": 0.7161356501174047,
         "concave_points_mean": 0.8509770412528191,
         "symmetry_mean": 0.18302721211685316,
         "fractal_dimension_mean": -0.26147690806633256,
         "_deepnote_index_column": "perimeter_mean"
        },
        {
         "diagnosis": 0.7089838365853902,
         "radius_mean": 0.9873571700566127,
         "texture_mean": 0.32108569608020704,
         "perimeter_mean": 0.9865068039913907,
         "area_mean": 1,
         "smoothness_mean": 0.1770283772540016,
         "compactness_mean": 0.49850168215241186,
         "concavity_mean": 0.6859828285519112,
         "concave_points_mean": 0.8232688686524342,
         "symmetry_mean": 0.15129307903511224,
         "fractal_dimension_mean": -0.2831098116914261,
         "_deepnote_index_column": "area_mean"
        },
        {
         "diagnosis": 0.35855996508593324,
         "radius_mean": 0.17058118749299467,
         "texture_mean": -0.023388515998423325,
         "perimeter_mean": 0.2072781636910072,
         "area_mean": 0.1770283772540016,
         "smoothness_mean": 1,
         "compactness_mean": 0.6591232152159234,
         "concavity_mean": 0.52198376771426,
         "concave_points_mean": 0.5536951727437609,
         "symmetry_mean": 0.5577747880728878,
         "fractal_dimension_mean": 0.5847920019499775,
         "_deepnote_index_column": "smoothness_mean"
        },
        {
         "diagnosis": 0.5965336775082527,
         "radius_mean": 0.5061235775263634,
         "texture_mean": 0.236702222074372,
         "perimeter_mean": 0.556936210879562,
         "area_mean": 0.49850168215241186,
         "smoothness_mean": 0.6591232152159234,
         "compactness_mean": 1,
         "concavity_mean": 0.8831206701772507,
         "concave_points_mean": 0.831135043133698,
         "symmetry_mean": 0.6026410484055158,
         "fractal_dimension_mean": 0.565368663414522,
         "_deepnote_index_column": "compactness_mean"
        },
        {
         "diagnosis": 0.6963597071719052,
         "radius_mean": 0.6767635503908104,
         "texture_mean": 0.30241782794389144,
         "perimeter_mean": 0.7161356501174047,
         "area_mean": 0.6859828285519112,
         "smoothness_mean": 0.52198376771426,
         "compactness_mean": 0.8831206701772507,
         "concavity_mean": 1,
         "concave_points_mean": 0.9213910263788588,
         "symmetry_mean": 0.5006666171419609,
         "fractal_dimension_mean": 0.33678335942118504,
         "_deepnote_index_column": "concavity_mean"
        },
        {
         "diagnosis": 0.7766138400204371,
         "radius_mean": 0.8225285223871786,
         "texture_mean": 0.29346405131394276,
         "perimeter_mean": 0.8509770412528191,
         "area_mean": 0.8232688686524342,
         "smoothness_mean": 0.5536951727437609,
         "compactness_mean": 0.831135043133698,
         "concavity_mean": 0.9213910263788588,
         "concave_points_mean": 1,
         "symmetry_mean": 0.4624973883673585,
         "fractal_dimension_mean": 0.1669173832269923,
         "_deepnote_index_column": "concave_points_mean"
        },
        {
         "diagnosis": 0.33049855426254676,
         "radius_mean": 0.14774124199260202,
         "texture_mean": 0.07140098048331764,
         "perimeter_mean": 0.18302721211685316,
         "area_mean": 0.15129307903511224,
         "smoothness_mean": 0.5577747880728878,
         "compactness_mean": 0.6026410484055158,
         "concavity_mean": 0.5006666171419609,
         "concave_points_mean": 0.4624973883673585,
         "symmetry_mean": 1,
         "fractal_dimension_mean": 0.47992133005096926,
         "_deepnote_index_column": "symmetry_mean"
        }
       ]
      },
      "text/plain": "                        diagnosis  radius_mean  texture_mean  perimeter_mean  \\\ndiagnosis                1.000000     0.730029      0.415185        0.742636   \nradius_mean              0.730029     1.000000      0.323782        0.997855   \ntexture_mean             0.415185     0.323782      1.000000        0.329533   \nperimeter_mean           0.742636     0.997855      0.329533        1.000000   \narea_mean                0.708984     0.987357      0.321086        0.986507   \nsmoothness_mean          0.358560     0.170581     -0.023389        0.207278   \ncompactness_mean         0.596534     0.506124      0.236702        0.556936   \nconcavity_mean           0.696360     0.676764      0.302418        0.716136   \nconcave_points_mean      0.776614     0.822529      0.293464        0.850977   \nsymmetry_mean            0.330499     0.147741      0.071401        0.183027   \nfractal_dimension_mean  -0.012838    -0.311631     -0.076437       -0.261477   \n\n                        area_mean  smoothness_mean  compactness_mean  \\\ndiagnosis                0.708984         0.358560          0.596534   \nradius_mean              0.987357         0.170581          0.506124   \ntexture_mean             0.321086        -0.023389          0.236702   \nperimeter_mean           0.986507         0.207278          0.556936   \narea_mean                1.000000         0.177028          0.498502   \nsmoothness_mean          0.177028         1.000000          0.659123   \ncompactness_mean         0.498502         0.659123          1.000000   \nconcavity_mean           0.685983         0.521984          0.883121   \nconcave_points_mean      0.823269         0.553695          0.831135   \nsymmetry_mean            0.151293         0.557775          0.602641   \nfractal_dimension_mean  -0.283110         0.584792          0.565369   \n\n                        concavity_mean  concave_points_mean  symmetry_mean  \\\ndiagnosis                     0.696360             0.776614       0.330499   \nradius_mean                   0.676764             0.822529       0.147741   \ntexture_mean                  0.302418             0.293464       0.071401   \nperimeter_mean                0.716136             0.850977       0.183027   \narea_mean                     0.685983             0.823269       0.151293   \nsmoothness_mean               0.521984             0.553695       0.557775   \ncompactness_mean              0.883121             0.831135       0.602641   \nconcavity_mean                1.000000             0.921391       0.500667   \nconcave_points_mean           0.921391             1.000000       0.462497   \nsymmetry_mean                 0.500667             0.462497       1.000000   \nfractal_dimension_mean        0.336783             0.166917       0.479921   \n\n                        fractal_dimension_mean  \ndiagnosis                            -0.012838  \nradius_mean                          -0.311631  \ntexture_mean                         -0.076437  \nperimeter_mean                       -0.261477  \narea_mean                            -0.283110  \nsmoothness_mean                       0.584792  \ncompactness_mean                      0.565369  \nconcavity_mean                        0.336783  \nconcave_points_mean                   0.166917  \nsymmetry_mean                         0.479921  \nfractal_dimension_mean                1.000000  ",
      "text/html": "<div>\n<style scoped>\n    .dataframe tbody tr th:only-of-type {\n        vertical-align: middle;\n    }\n\n    .dataframe tbody tr th {\n        vertical-align: top;\n    }\n\n    .dataframe thead th {\n        text-align: right;\n    }\n</style>\n<table border=\"1\" class=\"dataframe\">\n  <thead>\n    <tr style=\"text-align: right;\">\n      <th></th>\n      <th>diagnosis</th>\n      <th>radius_mean</th>\n      <th>texture_mean</th>\n      <th>perimeter_mean</th>\n      <th>area_mean</th>\n      <th>smoothness_mean</th>\n      <th>compactness_mean</th>\n      <th>concavity_mean</th>\n      <th>concave_points_mean</th>\n      <th>symmetry_mean</th>\n      <th>fractal_dimension_mean</th>\n    </tr>\n  </thead>\n  <tbody>\n    <tr>\n      <th>diagnosis</th>\n      <td>1.000000</td>\n      <td>0.730029</td>\n      <td>0.415185</td>\n      <td>0.742636</td>\n      <td>0.708984</td>\n      <td>0.358560</td>\n      <td>0.596534</td>\n      <td>0.696360</td>\n      <td>0.776614</td>\n      <td>0.330499</td>\n      <td>-0.012838</td>\n    </tr>\n    <tr>\n      <th>radius_mean</th>\n      <td>0.730029</td>\n      <td>1.000000</td>\n      <td>0.323782</td>\n      <td>0.997855</td>\n      <td>0.987357</td>\n      <td>0.170581</td>\n      <td>0.506124</td>\n      <td>0.676764</td>\n      <td>0.822529</td>\n      <td>0.147741</td>\n      <td>-0.311631</td>\n    </tr>\n    <tr>\n      <th>texture_mean</th>\n      <td>0.415185</td>\n      <td>0.323782</td>\n      <td>1.000000</td>\n      <td>0.329533</td>\n      <td>0.321086</td>\n      <td>-0.023389</td>\n      <td>0.236702</td>\n      <td>0.302418</td>\n      <td>0.293464</td>\n      <td>0.071401</td>\n      <td>-0.076437</td>\n    </tr>\n    <tr>\n      <th>perimeter_mean</th>\n      <td>0.742636</td>\n      <td>0.997855</td>\n      <td>0.329533</td>\n      <td>1.000000</td>\n      <td>0.986507</td>\n      <td>0.207278</td>\n      <td>0.556936</td>\n      <td>0.716136</td>\n      <td>0.850977</td>\n      <td>0.183027</td>\n      <td>-0.261477</td>\n    </tr>\n    <tr>\n      <th>area_mean</th>\n      <td>0.708984</td>\n      <td>0.987357</td>\n      <td>0.321086</td>\n      <td>0.986507</td>\n      <td>1.000000</td>\n      <td>0.177028</td>\n      <td>0.498502</td>\n      <td>0.685983</td>\n      <td>0.823269</td>\n      <td>0.151293</td>\n      <td>-0.283110</td>\n    </tr>\n    <tr>\n      <th>smoothness_mean</th>\n      <td>0.358560</td>\n      <td>0.170581</td>\n      <td>-0.023389</td>\n      <td>0.207278</td>\n      <td>0.177028</td>\n      <td>1.000000</td>\n      <td>0.659123</td>\n      <td>0.521984</td>\n      <td>0.553695</td>\n      <td>0.557775</td>\n      <td>0.584792</td>\n    </tr>\n    <tr>\n      <th>compactness_mean</th>\n      <td>0.596534</td>\n      <td>0.506124</td>\n      <td>0.236702</td>\n      <td>0.556936</td>\n      <td>0.498502</td>\n      <td>0.659123</td>\n      <td>1.000000</td>\n      <td>0.883121</td>\n      <td>0.831135</td>\n      <td>0.602641</td>\n      <td>0.565369</td>\n    </tr>\n    <tr>\n      <th>concavity_mean</th>\n      <td>0.696360</td>\n      <td>0.676764</td>\n      <td>0.302418</td>\n      <td>0.716136</td>\n      <td>0.685983</td>\n      <td>0.521984</td>\n      <td>0.883121</td>\n      <td>1.000000</td>\n      <td>0.921391</td>\n      <td>0.500667</td>\n      <td>0.336783</td>\n    </tr>\n    <tr>\n      <th>concave_points_mean</th>\n      <td>0.776614</td>\n      <td>0.822529</td>\n      <td>0.293464</td>\n      <td>0.850977</td>\n      <td>0.823269</td>\n      <td>0.553695</td>\n      <td>0.831135</td>\n      <td>0.921391</td>\n      <td>1.000000</td>\n      <td>0.462497</td>\n      <td>0.166917</td>\n    </tr>\n    <tr>\n      <th>symmetry_mean</th>\n      <td>0.330499</td>\n      <td>0.147741</td>\n      <td>0.071401</td>\n      <td>0.183027</td>\n      <td>0.151293</td>\n      <td>0.557775</td>\n      <td>0.602641</td>\n      <td>0.500667</td>\n      <td>0.462497</td>\n      <td>1.000000</td>\n      <td>0.479921</td>\n    </tr>\n    <tr>\n      <th>fractal_dimension_mean</th>\n      <td>-0.012838</td>\n      <td>-0.311631</td>\n      <td>-0.076437</td>\n      <td>-0.261477</td>\n      <td>-0.283110</td>\n      <td>0.584792</td>\n      <td>0.565369</td>\n      <td>0.336783</td>\n      <td>0.166917</td>\n      <td>0.479921</td>\n      <td>1.000000</td>\n    </tr>\n  </tbody>\n</table>\n</div>"
     },
     "metadata": {}
    }
   ]
  },
  {
   "cell_type": "code",
   "metadata": {
    "cell_id": "2ec1058c9990416d9a17c5669fdcd0e0",
    "tags": [],
    "deepnote_to_be_reexecuted": false,
    "source_hash": "1473600",
    "execution_start": 1656791250703,
    "execution_millis": 1323,
    "owner_user_id": "396bb235-aede-4fc8-b2ca-937350b8688a",
    "deepnote_cell_type": "code",
    "deepnote_cell_height": 744,
    "deepnote_output_heights": [
     611
    ]
   },
   "source": "plt.figure(figsize=(10,10))\nax= sns.heatmap(df.iloc[:,1:12].corr(),annot= True, fmt='.0%')\n",
   "execution_count": null,
   "outputs": [
    {
     "data": {
      "text/plain": "<Figure size 720x720 with 2 Axes>",
      "image/png": "[encoded data removed]"
     },
     "metadata": {
      "needs_background": "light",
      "image/png": {
       "width": 696,
       "height": 706
      }
     },
     "output_type": "display_data"
    }
   ]
  },
  {
   "cell_type": "code",
   "metadata": {
    "cell_id": "07d336a4ec104e11945aa8d02703b5e5",
    "tags": [],
    "deepnote_to_be_reexecuted": false,
    "source_hash": "4ba1f7de",
    "execution_start": 1656792008873,
    "execution_millis": 2,
    "deepnote_cell_type": "code",
    "deepnote_cell_height": 117
   },
   "source": "#Split the data into independent(X) and dependent(Y) datasets\nX= df.iloc[:,2:31].values\nY= df.iloc[:,1].values",
   "execution_count": null,
   "outputs": []
  },
  {
   "cell_type": "code",
   "metadata": {
    "cell_id": "30b7c7a7ebf04c23afa5de65049e383d",
    "tags": [],
    "deepnote_to_be_reexecuted": false,
    "source_hash": "ef337aec",
    "execution_start": 1656792013695,
    "execution_millis": 4,
    "deepnote_cell_type": "code",
    "deepnote_cell_height": 117
   },
   "source": "#Split the data into 75% training and 25% testing\nfrom sklearn.model_selection import train_test_split\nX_train, X_test, Y_train, Y_test = train_test_split(X,Y, test_size= 0.25, random_state=0)",
   "execution_count": null,
   "outputs": []
  },
  {
   "cell_type": "code",
   "metadata": {
    "cell_id": "860ade89f55c467dbc1f58b1c0e9a1d9",
    "tags": [],
    "deepnote_to_be_reexecuted": false,
    "source_hash": "cd563d06",
    "execution_start": 1656792361878,
    "execution_millis": 7,
    "deepnote_cell_type": "code",
    "deepnote_cell_height": 153
   },
   "source": "#Scale the data to the same magnitude(Feature scaling)\nfrom sklearn.preprocessing import StandardScaler\nsc = StandardScaler()\nX_train = sc.fit_transform(X_train)\nX_test = sc.fit_transform(X_test)",
   "execution_count": null,
   "outputs": []
  },
  {
   "cell_type": "code",
   "metadata": {
    "cell_id": "ce0685a645614a89a036dac4eea85ea8",
    "tags": [],
    "deepnote_to_be_reexecuted": false,
    "source_hash": "4070d19b",
    "execution_start": 1656793603848,
    "execution_millis": 8,
    "deepnote_cell_type": "code",
    "deepnote_cell_height": 531
   },
   "source": "#Create a function for the model\ndef models(X_train,Y_train):\n\n    #logistic Regression\n    from sklearn.linear_model import LogisticRegression\n    log = LogisticRegression(random_state= 0)\n    log.fit(X_train,Y_train)\n\n\n    #decision tree\n    from sklearn.tree import DecisionTreeClassifier\n    tree = DecisionTreeClassifier(criterion= 'entropy', random_state= 0)\n    tree.fit(X_train,Y_train)\n\n    #random forest classifier\n    from sklearn.ensemble import RandomForestClassifier\n    forest = RandomForestClassifier(n_estimators= 10, criterion= 'entropy', random_state= 0)\n    forest.fit(X_train,Y_train)\n\n    #print the models accuracy on the training data\n    print('[0]Logistic Regression Training Accuracy:', log.score(X_train,Y_train))\n    print('[1]Decision Tree Classifier Training Accuracy:', tree.score(X_train,Y_train))\n    print('[2]Random forest Classifier Training Accuracy:', forest.score(X_train,Y_train))\n\n    return log, tree, forest\n",
   "execution_count": null,
   "outputs": []
  },
  {
   "cell_type": "code",
   "metadata": {
    "cell_id": "487e80c1561a4b4699af89a619a16628",
    "tags": [],
    "deepnote_to_be_reexecuted": false,
    "source_hash": "84482f63",
    "execution_start": 1656793696278,
    "execution_millis": 647,
    "deepnote_cell_type": "code",
    "deepnote_cell_height": 169.59375
   },
   "source": "#Getting all of the models\nmodel = models(X_train,Y_train)",
   "execution_count": null,
   "outputs": [
    {
     "name": "stdout",
     "text": "[0]Logistic Regression Training Accuracy: 0.9906103286384976\n[1]Decision Tree Classifier Training Accuracy: 1.0\n[2]Random forest Classifier Training Accuracy: 0.9953051643192489\n",
     "output_type": "stream"
    }
   ]
  },
  {
   "cell_type": "code",
   "metadata": {
    "cell_id": "4a8233b611284bb4b3ec360a3a8e3078",
    "tags": [],
    "deepnote_to_be_reexecuted": false,
    "source_hash": "95f3b56a",
    "execution_start": 1656794035318,
    "execution_millis": 6,
    "deepnote_cell_type": "code",
    "deepnote_cell_height": 203.71875
   },
   "source": "#Check model accuracy for test data on confusion matrix\nfrom sklearn.metrics import confusion_matrix\ncm = confusion_matrix(Y_test, model[0].predict(X_test))\n\nprint(cm)",
   "execution_count": null,
   "outputs": [
    {
     "name": "stdout",
     "text": "[[86  4]\n [ 3 50]]\n",
     "output_type": "stream"
    }
   ]
  },
  {
   "cell_type": "code",
   "metadata": {
    "cell_id": "21ce11f5200649b092ddd2496ff35dd6",
    "tags": [],
    "deepnote_to_be_reexecuted": false,
    "source_hash": "aab61928",
    "execution_start": 1656794423832,
    "execution_millis": 8,
    "deepnote_cell_type": "code",
    "deepnote_cell_height": 360.78125
   },
   "source": "#print the prediction of the random state model\npred = model[2].predict(X_test)\n\nprint(pred)\nprint()\nprint(Y_test)",
   "execution_count": null,
   "outputs": [
    {
     "name": "stdout",
     "text": "[1 0 0 0 0 0 0 0 0 0 1 0 0 1 1 1 0 1 1 1 1 1 0 0 1 0 0 1 0 1 0 1 0 1 0 1 0\n 1 0 1 0 0 1 0 0 1 0 0 0 1 1 1 1 0 0 0 0 0 0 1 1 1 0 0 1 0 1 1 1 0 0 1 0 0\n 1 0 0 0 0 0 1 1 1 0 1 0 0 0 1 1 0 1 0 1 0 0 1 0 0 0 0 0 0 0 1 0 1 0 1 1 0\n 1 1 0 0 0 0 0 0 0 0 0 1 0 1 0 0 0 0 0 1 0 0 0 0 0 0 1 1 0 0 0 1]\n\n[1 0 0 0 0 0 0 0 0 0 0 0 0 0 0 1 0 1 1 1 1 1 0 0 1 0 0 1 0 1 0 1 0 1 0 1 0\n 1 0 1 1 0 1 0 0 1 0 0 0 1 1 1 1 0 0 0 0 0 0 1 1 1 0 0 1 0 1 1 1 0 0 1 0 1\n 1 0 0 0 0 0 1 1 1 0 1 0 0 0 1 1 0 1 0 1 0 0 1 0 0 0 0 0 0 0 1 0 1 0 1 1 0\n 1 1 0 0 0 0 0 0 0 0 0 1 0 1 0 0 0 0 0 1 0 0 0 0 0 0 1 1 0 0 0 1]\n",
     "output_type": "stream"
    }
   ]
  },
  {
   "cell_type": "markdown",
   "source": "<a style='text-decoration:none;line-height:16px;display:flex;color:#5B5B62;padding:10px;justify-content:end;' href='https://deepnote.com?utm_source=created-in-deepnote-cell&projectId=916e4702-77ac-4523-a511-9a25235429db' target=\"_blank\">\n<img alt='Created in deepnote.com' style='display:inline;max-height:16px;margin:0px;margin-right:7.5px;' src='data:image/svg+xml;base64,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' > </img>\nCreated in <span style='font-weight:600;margin-left:4px;'>Deepnote</span></a>",
   "metadata": {
    "tags": [],
    "created_in_deepnote_cell": true,
    "deepnote_cell_type": "markdown"
   }
  }
 ],
 "nbformat": 4,
 "nbformat_minor": 2,
 "metadata": {
  "orig_nbformat": 2,
  "deepnote": {},
  "deepnote_notebook_id": "6fee7287-b244-4fda-a3a4-52493c47bc0f",
  "deepnote_execution_queue": []
 }
}